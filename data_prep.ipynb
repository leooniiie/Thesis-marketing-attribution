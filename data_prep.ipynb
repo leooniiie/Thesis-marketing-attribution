{
 "cells": [
  {
   "cell_type": "code",
   "execution_count": null,
   "metadata": {
    "collapsed": true,
    "id": "Xy_9mmpVjyk2"
   },
   "outputs": [],
   "source": [
    "import pandas as pd\n",
    "import plotly.express as px\n",
    "import matplotlib.pyplot as plt\n",
    "import seaborn as sns\n",
    "import numpy as np\n",
    "import tensorflow as tf\n",
    "import random\n",
    "\n",
    "\n",
    "from numpy import random\n",
    "from sklearn.preprocessing import OrdinalEncoder\n",
    "from IPython import display\n",
    "\n",
    "\n",
    "tf.compat.v1.disable_eager_execution()\n",
    "\n",
    "#%matplotlib inline\n",
    "random.seed(246)"
   ]
  },
  {
   "cell_type": "code",
   "execution_count": null,
   "metadata": {
    "id": "0EW-p7jNjyk4"
   },
   "outputs": [],
   "source": [
    "df_train = pd.read_csv(\"smaller_train.csv\")\n",
    "df_test = pd.read_csv(\"smaller_test.csv\")\n",
    "df_valid = pd.read_csv(\"/content/drive/MyDrive/privateSammlung/smaller_valid.csv\")\n",
    "\n",
    "df_train['s'] = 1\n",
    "df_test['s'] = 2\n",
    "df_valid['s'] = 2\n",
    "\n",
    "df = pd.concat([df_train, df_test, df_valid], ignore_index=True)"
   ]
  },
  {
   "cell_type": "code",
   "execution_count": null,
   "metadata": {
    "colab": {
     "base_uri": "https://localhost:8080/",
     "height": 423
    },
    "id": "SH_q4baLjyk4",
    "outputId": "ea114fd5-0a13-4d50-f28b-eae8b6aed6a4"
   },
   "outputs": [
    {
     "output_type": "execute_result",
     "data": {
      "text/plain": [
       "       transaction   platform   country_name  journey_id  channel_id  \\\n",
       "525              1    desktop    South Korea      130944           2   \n",
       "526              1  mobileWeb      Indonesia      130978           3   \n",
       "527              1  mobileWeb  United States      130990           3   \n",
       "528              1  mobileWeb        Germany      131006           6   \n",
       "529              1  mobileWeb         France      131046           6   \n",
       "...            ...        ...            ...         ...         ...   \n",
       "22287            1  mobileWeb         Mexico      130976           1   \n",
       "22288            1  mobileWeb      Australia      130952           1   \n",
       "22289            1    android         Mexico      130976          11   \n",
       "22290            1  mobileWeb          Spain      130976           8   \n",
       "22291            1  mobileWeb         Mexico      130976           1   \n",
       "\n",
       "         timestamp  timestamp_conversion  s  \n",
       "525    4236.409495           4239.122778  1  \n",
       "526    4302.195794           6452.081111  1  \n",
       "527    2941.232592           2947.790278  1  \n",
       "528    2673.734090           2891.494722  1  \n",
       "529    4990.108078           4990.150000  1  \n",
       "...            ...                   ... ..  \n",
       "22287  3838.207627           5125.785278  2  \n",
       "22288  5050.358723           5171.806111  2  \n",
       "22289  5111.299453           5125.785278  2  \n",
       "22290  5031.411836           5125.785278  2  \n",
       "22291  3446.998930           5125.785278  2  \n",
       "\n",
       "[18884 rows x 8 columns]"
      ],
      "text/html": [
       "\n",
       "\n",
       "  <div id=\"df-4f20e927-244c-4eb7-8bc8-789f19fc8454\">\n",
       "    <div class=\"colab-df-container\">\n",
       "      <div>\n",
       "<style scoped>\n",
       "    .dataframe tbody tr th:only-of-type {\n",
       "        vertical-align: middle;\n",
       "    }\n",
       "\n",
       "    .dataframe tbody tr th {\n",
       "        vertical-align: top;\n",
       "    }\n",
       "\n",
       "    .dataframe thead th {\n",
       "        text-align: right;\n",
       "    }\n",
       "</style>\n",
       "<table border=\"1\" class=\"dataframe\">\n",
       "  <thead>\n",
       "    <tr style=\"text-align: right;\">\n",
       "      <th></th>\n",
       "      <th>transaction</th>\n",
       "      <th>platform</th>\n",
       "      <th>country_name</th>\n",
       "      <th>journey_id</th>\n",
       "      <th>channel_id</th>\n",
       "      <th>timestamp</th>\n",
       "      <th>timestamp_conversion</th>\n",
       "      <th>s</th>\n",
       "    </tr>\n",
       "  </thead>\n",
       "  <tbody>\n",
       "    <tr>\n",
       "      <th>525</th>\n",
       "      <td>1</td>\n",
       "      <td>desktop</td>\n",
       "      <td>South Korea</td>\n",
       "      <td>130944</td>\n",
       "      <td>2</td>\n",
       "      <td>4236.409495</td>\n",
       "      <td>4239.122778</td>\n",
       "      <td>1</td>\n",
       "    </tr>\n",
       "    <tr>\n",
       "      <th>526</th>\n",
       "      <td>1</td>\n",
       "      <td>mobileWeb</td>\n",
       "      <td>Indonesia</td>\n",
       "      <td>130978</td>\n",
       "      <td>3</td>\n",
       "      <td>4302.195794</td>\n",
       "      <td>6452.081111</td>\n",
       "      <td>1</td>\n",
       "    </tr>\n",
       "    <tr>\n",
       "      <th>527</th>\n",
       "      <td>1</td>\n",
       "      <td>mobileWeb</td>\n",
       "      <td>United States</td>\n",
       "      <td>130990</td>\n",
       "      <td>3</td>\n",
       "      <td>2941.232592</td>\n",
       "      <td>2947.790278</td>\n",
       "      <td>1</td>\n",
       "    </tr>\n",
       "    <tr>\n",
       "      <th>528</th>\n",
       "      <td>1</td>\n",
       "      <td>mobileWeb</td>\n",
       "      <td>Germany</td>\n",
       "      <td>131006</td>\n",
       "      <td>6</td>\n",
       "      <td>2673.734090</td>\n",
       "      <td>2891.494722</td>\n",
       "      <td>1</td>\n",
       "    </tr>\n",
       "    <tr>\n",
       "      <th>529</th>\n",
       "      <td>1</td>\n",
       "      <td>mobileWeb</td>\n",
       "      <td>France</td>\n",
       "      <td>131046</td>\n",
       "      <td>6</td>\n",
       "      <td>4990.108078</td>\n",
       "      <td>4990.150000</td>\n",
       "      <td>1</td>\n",
       "    </tr>\n",
       "    <tr>\n",
       "      <th>...</th>\n",
       "      <td>...</td>\n",
       "      <td>...</td>\n",
       "      <td>...</td>\n",
       "      <td>...</td>\n",
       "      <td>...</td>\n",
       "      <td>...</td>\n",
       "      <td>...</td>\n",
       "      <td>...</td>\n",
       "    </tr>\n",
       "    <tr>\n",
       "      <th>22287</th>\n",
       "      <td>1</td>\n",
       "      <td>mobileWeb</td>\n",
       "      <td>Mexico</td>\n",
       "      <td>130976</td>\n",
       "      <td>1</td>\n",
       "      <td>3838.207627</td>\n",
       "      <td>5125.785278</td>\n",
       "      <td>2</td>\n",
       "    </tr>\n",
       "    <tr>\n",
       "      <th>22288</th>\n",
       "      <td>1</td>\n",
       "      <td>mobileWeb</td>\n",
       "      <td>Australia</td>\n",
       "      <td>130952</td>\n",
       "      <td>1</td>\n",
       "      <td>5050.358723</td>\n",
       "      <td>5171.806111</td>\n",
       "      <td>2</td>\n",
       "    </tr>\n",
       "    <tr>\n",
       "      <th>22289</th>\n",
       "      <td>1</td>\n",
       "      <td>android</td>\n",
       "      <td>Mexico</td>\n",
       "      <td>130976</td>\n",
       "      <td>11</td>\n",
       "      <td>5111.299453</td>\n",
       "      <td>5125.785278</td>\n",
       "      <td>2</td>\n",
       "    </tr>\n",
       "    <tr>\n",
       "      <th>22290</th>\n",
       "      <td>1</td>\n",
       "      <td>mobileWeb</td>\n",
       "      <td>Spain</td>\n",
       "      <td>130976</td>\n",
       "      <td>8</td>\n",
       "      <td>5031.411836</td>\n",
       "      <td>5125.785278</td>\n",
       "      <td>2</td>\n",
       "    </tr>\n",
       "    <tr>\n",
       "      <th>22291</th>\n",
       "      <td>1</td>\n",
       "      <td>mobileWeb</td>\n",
       "      <td>Mexico</td>\n",
       "      <td>130976</td>\n",
       "      <td>1</td>\n",
       "      <td>3446.998930</td>\n",
       "      <td>5125.785278</td>\n",
       "      <td>2</td>\n",
       "    </tr>\n",
       "  </tbody>\n",
       "</table>\n",
       "<p>18884 rows × 8 columns</p>\n",
       "</div>\n",
       "      <button class=\"colab-df-convert\" onclick=\"convertToInteractive('df-4f20e927-244c-4eb7-8bc8-789f19fc8454')\"\n",
       "              title=\"Convert this dataframe to an interactive table.\"\n",
       "              style=\"display:none;\">\n",
       "\n",
       "  <svg xmlns=\"http://www.w3.org/2000/svg\" height=\"24px\"viewBox=\"0 0 24 24\"\n",
       "       width=\"24px\">\n",
       "    <path d=\"M0 0h24v24H0V0z\" fill=\"none\"/>\n",
       "    <path d=\"M18.56 5.44l.94 2.06.94-2.06 2.06-.94-2.06-.94-.94-2.06-.94 2.06-2.06.94zm-11 1L8.5 8.5l.94-2.06 2.06-.94-2.06-.94L8.5 2.5l-.94 2.06-2.06.94zm10 10l.94 2.06.94-2.06 2.06-.94-2.06-.94-.94-2.06-.94 2.06-2.06.94z\"/><path d=\"M17.41 7.96l-1.37-1.37c-.4-.4-.92-.59-1.43-.59-.52 0-1.04.2-1.43.59L10.3 9.45l-7.72 7.72c-.78.78-.78 2.05 0 2.83L4 21.41c.39.39.9.59 1.41.59.51 0 1.02-.2 1.41-.59l7.78-7.78 2.81-2.81c.8-.78.8-2.07 0-2.86zM5.41 20L4 18.59l7.72-7.72 1.47 1.35L5.41 20z\"/>\n",
       "  </svg>\n",
       "      </button>\n",
       "\n",
       "\n",
       "\n",
       "    <div id=\"df-3a81f356-8632-44f1-8ffc-b01f406ecdfa\">\n",
       "      <button class=\"colab-df-quickchart\" onclick=\"quickchart('df-3a81f356-8632-44f1-8ffc-b01f406ecdfa')\"\n",
       "              title=\"Suggest charts.\"\n",
       "              style=\"display:none;\">\n",
       "\n",
       "<svg xmlns=\"http://www.w3.org/2000/svg\" height=\"24px\"viewBox=\"0 0 24 24\"\n",
       "     width=\"24px\">\n",
       "    <g>\n",
       "        <path d=\"M19 3H5c-1.1 0-2 .9-2 2v14c0 1.1.9 2 2 2h14c1.1 0 2-.9 2-2V5c0-1.1-.9-2-2-2zM9 17H7v-7h2v7zm4 0h-2V7h2v10zm4 0h-2v-4h2v4z\"/>\n",
       "    </g>\n",
       "</svg>\n",
       "      </button>\n",
       "    </div>\n",
       "\n",
       "<style>\n",
       "  .colab-df-quickchart {\n",
       "    background-color: #E8F0FE;\n",
       "    border: none;\n",
       "    border-radius: 50%;\n",
       "    cursor: pointer;\n",
       "    display: none;\n",
       "    fill: #1967D2;\n",
       "    height: 32px;\n",
       "    padding: 0 0 0 0;\n",
       "    width: 32px;\n",
       "  }\n",
       "\n",
       "  .colab-df-quickchart:hover {\n",
       "    background-color: #E2EBFA;\n",
       "    box-shadow: 0px 1px 2px rgba(60, 64, 67, 0.3), 0px 1px 3px 1px rgba(60, 64, 67, 0.15);\n",
       "    fill: #174EA6;\n",
       "  }\n",
       "\n",
       "  [theme=dark] .colab-df-quickchart {\n",
       "    background-color: #3B4455;\n",
       "    fill: #D2E3FC;\n",
       "  }\n",
       "\n",
       "  [theme=dark] .colab-df-quickchart:hover {\n",
       "    background-color: #434B5C;\n",
       "    box-shadow: 0px 1px 3px 1px rgba(0, 0, 0, 0.15);\n",
       "    filter: drop-shadow(0px 1px 2px rgba(0, 0, 0, 0.3));\n",
       "    fill: #FFFFFF;\n",
       "  }\n",
       "</style>\n",
       "\n",
       "    <script>\n",
       "      async function quickchart(key) {\n",
       "        const containerElement = document.querySelector('#' + key);\n",
       "        const charts = await google.colab.kernel.invokeFunction(\n",
       "            'suggestCharts', [key], {});\n",
       "      }\n",
       "    </script>\n",
       "\n",
       "      <script>\n",
       "\n",
       "function displayQuickchartButton(domScope) {\n",
       "  let quickchartButtonEl =\n",
       "    domScope.querySelector('#df-3a81f356-8632-44f1-8ffc-b01f406ecdfa button.colab-df-quickchart');\n",
       "  quickchartButtonEl.style.display =\n",
       "    google.colab.kernel.accessAllowed ? 'block' : 'none';\n",
       "}\n",
       "\n",
       "        displayQuickchartButton(document);\n",
       "      </script>\n",
       "      <style>\n",
       "    .colab-df-container {\n",
       "      display:flex;\n",
       "      flex-wrap:wrap;\n",
       "      gap: 12px;\n",
       "    }\n",
       "\n",
       "    .colab-df-convert {\n",
       "      background-color: #E8F0FE;\n",
       "      border: none;\n",
       "      border-radius: 50%;\n",
       "      cursor: pointer;\n",
       "      display: none;\n",
       "      fill: #1967D2;\n",
       "      height: 32px;\n",
       "      padding: 0 0 0 0;\n",
       "      width: 32px;\n",
       "    }\n",
       "\n",
       "    .colab-df-convert:hover {\n",
       "      background-color: #E2EBFA;\n",
       "      box-shadow: 0px 1px 2px rgba(60, 64, 67, 0.3), 0px 1px 3px 1px rgba(60, 64, 67, 0.15);\n",
       "      fill: #174EA6;\n",
       "    }\n",
       "\n",
       "    [theme=dark] .colab-df-convert {\n",
       "      background-color: #3B4455;\n",
       "      fill: #D2E3FC;\n",
       "    }\n",
       "\n",
       "    [theme=dark] .colab-df-convert:hover {\n",
       "      background-color: #434B5C;\n",
       "      box-shadow: 0px 1px 3px 1px rgba(0, 0, 0, 0.15);\n",
       "      filter: drop-shadow(0px 1px 2px rgba(0, 0, 0, 0.3));\n",
       "      fill: #FFFFFF;\n",
       "    }\n",
       "  </style>\n",
       "\n",
       "      <script>\n",
       "        const buttonEl =\n",
       "          document.querySelector('#df-4f20e927-244c-4eb7-8bc8-789f19fc8454 button.colab-df-convert');\n",
       "        buttonEl.style.display =\n",
       "          google.colab.kernel.accessAllowed ? 'block' : 'none';\n",
       "\n",
       "        async function convertToInteractive(key) {\n",
       "          const element = document.querySelector('#df-4f20e927-244c-4eb7-8bc8-789f19fc8454');\n",
       "          const dataTable =\n",
       "            await google.colab.kernel.invokeFunction('convertToInteractive',\n",
       "                                                     [key], {});\n",
       "          if (!dataTable) return;\n",
       "\n",
       "          const docLinkHtml = 'Like what you see? Visit the ' +\n",
       "            '<a target=\"_blank\" href=https://colab.research.google.com/notebooks/data_table.ipynb>data table notebook</a>'\n",
       "            + ' to learn more about interactive tables.';\n",
       "          element.innerHTML = '';\n",
       "          dataTable['output_type'] = 'display_data';\n",
       "          await google.colab.output.renderOutput(dataTable, element);\n",
       "          const docLink = document.createElement('div');\n",
       "          docLink.innerHTML = docLinkHtml;\n",
       "          element.appendChild(docLink);\n",
       "        }\n",
       "      </script>\n",
       "    </div>\n",
       "  </div>\n"
      ]
     },
     "metadata": {},
     "execution_count": 4
    }
   ],
   "source": [
    "#df.describe()\n",
    "#df = df[df['journey_id'].isin(range(120000, 140000))]   only temporary to have less data, this interval, because it contains transaction == 1\n",
    "df[df['transaction']==1]  # as one can see here"
   ]
  },
  {
   "cell_type": "markdown",
   "metadata": {
    "collapsed": false,
    "id": "yVmrdgFTjyk5"
   },
   "source": [
    "## Transform the transaction column s.t. only  last tp before conversioin has transaction == 1"
   ]
  },
  {
   "cell_type": "code",
   "execution_count": null,
   "metadata": {
    "id": "xmTGx8v5jyk8"
   },
   "outputs": [],
   "source": [
    "df['time_diff'] = df['timestamp_conversion'] - df['timestamp'] #create new var for timedifference"
   ]
  },
  {
   "cell_type": "code",
   "execution_count": null,
   "metadata": {
    "colab": {
     "base_uri": "https://localhost:8080/",
     "height": 80
    },
    "id": "SW_FsNnXjyk9",
    "outputId": "8c7e3e9c-81c3-45aa-8efe-e7d60a9623ee"
   },
   "outputs": [
    {
     "output_type": "execute_result",
     "data": {
      "text/plain": [
       "       transaction platform country_name  journey_id  channel_id    timestamp  \\\n",
       "10138            1  android       Poland      137811          11  4029.156188   \n",
       "\n",
       "       timestamp_conversion  s  time_diff  \n",
       "10138           4029.151944  1  -0.004243  "
      ],
      "text/html": [
       "\n",
       "\n",
       "  <div id=\"df-6a46d298-52e7-46fc-84f9-93e1845610c5\">\n",
       "    <div class=\"colab-df-container\">\n",
       "      <div>\n",
       "<style scoped>\n",
       "    .dataframe tbody tr th:only-of-type {\n",
       "        vertical-align: middle;\n",
       "    }\n",
       "\n",
       "    .dataframe tbody tr th {\n",
       "        vertical-align: top;\n",
       "    }\n",
       "\n",
       "    .dataframe thead th {\n",
       "        text-align: right;\n",
       "    }\n",
       "</style>\n",
       "<table border=\"1\" class=\"dataframe\">\n",
       "  <thead>\n",
       "    <tr style=\"text-align: right;\">\n",
       "      <th></th>\n",
       "      <th>transaction</th>\n",
       "      <th>platform</th>\n",
       "      <th>country_name</th>\n",
       "      <th>journey_id</th>\n",
       "      <th>channel_id</th>\n",
       "      <th>timestamp</th>\n",
       "      <th>timestamp_conversion</th>\n",
       "      <th>s</th>\n",
       "      <th>time_diff</th>\n",
       "    </tr>\n",
       "  </thead>\n",
       "  <tbody>\n",
       "    <tr>\n",
       "      <th>10138</th>\n",
       "      <td>1</td>\n",
       "      <td>android</td>\n",
       "      <td>Poland</td>\n",
       "      <td>137811</td>\n",
       "      <td>11</td>\n",
       "      <td>4029.156188</td>\n",
       "      <td>4029.151944</td>\n",
       "      <td>1</td>\n",
       "      <td>-0.004243</td>\n",
       "    </tr>\n",
       "  </tbody>\n",
       "</table>\n",
       "</div>\n",
       "      <button class=\"colab-df-convert\" onclick=\"convertToInteractive('df-6a46d298-52e7-46fc-84f9-93e1845610c5')\"\n",
       "              title=\"Convert this dataframe to an interactive table.\"\n",
       "              style=\"display:none;\">\n",
       "\n",
       "  <svg xmlns=\"http://www.w3.org/2000/svg\" height=\"24px\"viewBox=\"0 0 24 24\"\n",
       "       width=\"24px\">\n",
       "    <path d=\"M0 0h24v24H0V0z\" fill=\"none\"/>\n",
       "    <path d=\"M18.56 5.44l.94 2.06.94-2.06 2.06-.94-2.06-.94-.94-2.06-.94 2.06-2.06.94zm-11 1L8.5 8.5l.94-2.06 2.06-.94-2.06-.94L8.5 2.5l-.94 2.06-2.06.94zm10 10l.94 2.06.94-2.06 2.06-.94-2.06-.94-.94-2.06-.94 2.06-2.06.94z\"/><path d=\"M17.41 7.96l-1.37-1.37c-.4-.4-.92-.59-1.43-.59-.52 0-1.04.2-1.43.59L10.3 9.45l-7.72 7.72c-.78.78-.78 2.05 0 2.83L4 21.41c.39.39.9.59 1.41.59.51 0 1.02-.2 1.41-.59l7.78-7.78 2.81-2.81c.8-.78.8-2.07 0-2.86zM5.41 20L4 18.59l7.72-7.72 1.47 1.35L5.41 20z\"/>\n",
       "  </svg>\n",
       "      </button>\n",
       "\n",
       "\n",
       "\n",
       "    <div id=\"df-bdbcf812-2c1b-474b-b479-1d7400c41f3b\">\n",
       "      <button class=\"colab-df-quickchart\" onclick=\"quickchart('df-bdbcf812-2c1b-474b-b479-1d7400c41f3b')\"\n",
       "              title=\"Suggest charts.\"\n",
       "              style=\"display:none;\">\n",
       "\n",
       "<svg xmlns=\"http://www.w3.org/2000/svg\" height=\"24px\"viewBox=\"0 0 24 24\"\n",
       "     width=\"24px\">\n",
       "    <g>\n",
       "        <path d=\"M19 3H5c-1.1 0-2 .9-2 2v14c0 1.1.9 2 2 2h14c1.1 0 2-.9 2-2V5c0-1.1-.9-2-2-2zM9 17H7v-7h2v7zm4 0h-2V7h2v10zm4 0h-2v-4h2v4z\"/>\n",
       "    </g>\n",
       "</svg>\n",
       "      </button>\n",
       "    </div>\n",
       "\n",
       "<style>\n",
       "  .colab-df-quickchart {\n",
       "    background-color: #E8F0FE;\n",
       "    border: none;\n",
       "    border-radius: 50%;\n",
       "    cursor: pointer;\n",
       "    display: none;\n",
       "    fill: #1967D2;\n",
       "    height: 32px;\n",
       "    padding: 0 0 0 0;\n",
       "    width: 32px;\n",
       "  }\n",
       "\n",
       "  .colab-df-quickchart:hover {\n",
       "    background-color: #E2EBFA;\n",
       "    box-shadow: 0px 1px 2px rgba(60, 64, 67, 0.3), 0px 1px 3px 1px rgba(60, 64, 67, 0.15);\n",
       "    fill: #174EA6;\n",
       "  }\n",
       "\n",
       "  [theme=dark] .colab-df-quickchart {\n",
       "    background-color: #3B4455;\n",
       "    fill: #D2E3FC;\n",
       "  }\n",
       "\n",
       "  [theme=dark] .colab-df-quickchart:hover {\n",
       "    background-color: #434B5C;\n",
       "    box-shadow: 0px 1px 3px 1px rgba(0, 0, 0, 0.15);\n",
       "    filter: drop-shadow(0px 1px 2px rgba(0, 0, 0, 0.3));\n",
       "    fill: #FFFFFF;\n",
       "  }\n",
       "</style>\n",
       "\n",
       "    <script>\n",
       "      async function quickchart(key) {\n",
       "        const containerElement = document.querySelector('#' + key);\n",
       "        const charts = await google.colab.kernel.invokeFunction(\n",
       "            'suggestCharts', [key], {});\n",
       "      }\n",
       "    </script>\n",
       "\n",
       "      <script>\n",
       "\n",
       "function displayQuickchartButton(domScope) {\n",
       "  let quickchartButtonEl =\n",
       "    domScope.querySelector('#df-bdbcf812-2c1b-474b-b479-1d7400c41f3b button.colab-df-quickchart');\n",
       "  quickchartButtonEl.style.display =\n",
       "    google.colab.kernel.accessAllowed ? 'block' : 'none';\n",
       "}\n",
       "\n",
       "        displayQuickchartButton(document);\n",
       "      </script>\n",
       "      <style>\n",
       "    .colab-df-container {\n",
       "      display:flex;\n",
       "      flex-wrap:wrap;\n",
       "      gap: 12px;\n",
       "    }\n",
       "\n",
       "    .colab-df-convert {\n",
       "      background-color: #E8F0FE;\n",
       "      border: none;\n",
       "      border-radius: 50%;\n",
       "      cursor: pointer;\n",
       "      display: none;\n",
       "      fill: #1967D2;\n",
       "      height: 32px;\n",
       "      padding: 0 0 0 0;\n",
       "      width: 32px;\n",
       "    }\n",
       "\n",
       "    .colab-df-convert:hover {\n",
       "      background-color: #E2EBFA;\n",
       "      box-shadow: 0px 1px 2px rgba(60, 64, 67, 0.3), 0px 1px 3px 1px rgba(60, 64, 67, 0.15);\n",
       "      fill: #174EA6;\n",
       "    }\n",
       "\n",
       "    [theme=dark] .colab-df-convert {\n",
       "      background-color: #3B4455;\n",
       "      fill: #D2E3FC;\n",
       "    }\n",
       "\n",
       "    [theme=dark] .colab-df-convert:hover {\n",
       "      background-color: #434B5C;\n",
       "      box-shadow: 0px 1px 3px 1px rgba(0, 0, 0, 0.15);\n",
       "      filter: drop-shadow(0px 1px 2px rgba(0, 0, 0, 0.3));\n",
       "      fill: #FFFFFF;\n",
       "    }\n",
       "  </style>\n",
       "\n",
       "      <script>\n",
       "        const buttonEl =\n",
       "          document.querySelector('#df-6a46d298-52e7-46fc-84f9-93e1845610c5 button.colab-df-convert');\n",
       "        buttonEl.style.display =\n",
       "          google.colab.kernel.accessAllowed ? 'block' : 'none';\n",
       "\n",
       "        async function convertToInteractive(key) {\n",
       "          const element = document.querySelector('#df-6a46d298-52e7-46fc-84f9-93e1845610c5');\n",
       "          const dataTable =\n",
       "            await google.colab.kernel.invokeFunction('convertToInteractive',\n",
       "                                                     [key], {});\n",
       "          if (!dataTable) return;\n",
       "\n",
       "          const docLinkHtml = 'Like what you see? Visit the ' +\n",
       "            '<a target=\"_blank\" href=https://colab.research.google.com/notebooks/data_table.ipynb>data table notebook</a>'\n",
       "            + ' to learn more about interactive tables.';\n",
       "          element.innerHTML = '';\n",
       "          dataTable['output_type'] = 'display_data';\n",
       "          await google.colab.output.renderOutput(dataTable, element);\n",
       "          const docLink = document.createElement('div');\n",
       "          docLink.innerHTML = docLinkHtml;\n",
       "          element.appendChild(docLink);\n",
       "        }\n",
       "      </script>\n",
       "    </div>\n",
       "  </div>\n"
      ]
     },
     "metadata": {},
     "execution_count": 6
    }
   ],
   "source": [
    "df[df['time_diff'] < 0] #All observations where there's a touchpoint after conversion... 34 rows will be ignored"
   ]
  },
  {
   "cell_type": "code",
   "execution_count": null,
   "metadata": {
    "id": "JAD6iRLtjyk-"
   },
   "outputs": [],
   "source": [
    "df.drop(df[df.time_diff < 0].index, inplace = True) #remove these time_diff < 0 i.e. tp after transaction"
   ]
  },
  {
   "cell_type": "code",
   "execution_count": null,
   "metadata": {
    "id": "9aDc0N-Ijyk_"
   },
   "outputs": [],
   "source": [
    "df = df.sort_values('timestamp')\n",
    "df = df.sort_values('journey_id')"
   ]
  },
  {
   "cell_type": "code",
   "execution_count": null,
   "metadata": {
    "id": "MJU0kUnujylA"
   },
   "outputs": [],
   "source": [
    "# This transform df so that only last touchpoint before conversion gets transaction = 1. Because this leaves to few\n",
    "# observations with transaction == 1 we don't consider it for now\n",
    "\n",
    "groups = df.groupby('journey_id').time_diff\n",
    "min_val = groups.transform(min) #search minimal time_diff in each group <=> closest tp to conversion\n",
    "\n",
    "cond1 = df.time_diff==min_val #define condition when transaction should be 1\n",
    "\n",
    "df['transaction'] = np.select([cond1], [1], default = 0) #transform transaction\n"
   ]
  },
  {
   "cell_type": "markdown",
   "metadata": {
    "collapsed": false,
    "id": "SZ0U9mwCjylC"
   },
   "source": [
    "## Long Journeys"
   ]
  },
  {
   "cell_type": "code",
   "execution_count": null,
   "metadata": {
    "colab": {
     "base_uri": "https://localhost:8080/"
    },
    "id": "KqRp9j1ajylC",
    "outputId": "8dcf7934-e526-414e-e754-4a6c5eb422c9"
   },
   "outputs": [
    {
     "output_type": "stream",
     "name": "stdout",
     "text": [
      "count    2035.000000\n",
      "mean       10.953808\n",
      "std        18.527553\n",
      "min         1.000000\n",
      "25%         2.000000\n",
      "50%         4.000000\n",
      "75%        11.000000\n",
      "max       100.000000\n",
      "Name: s, dtype: float64\n",
      "The  99.0 % quantile is  98.0\n",
      "The  99.99 % quantile is  100.0\n"
     ]
    }
   ],
   "source": [
    "journ_len = df.groupby(\"journey_id\")[\"s\"].count()\n",
    "print(journ_len.describe())\n",
    "p1 = 0.99\n",
    "p2 = 0.9999\n",
    "print('The ', p1*100, '% quantile is ', np.quantile(journ_len, p1))\n",
    "print('The ', p2*100, '% quantile is ', np.quantile(journ_len, p2))"
   ]
  },
  {
   "cell_type": "code",
   "execution_count": null,
   "metadata": {
    "id": "PyHHb03ajylF"
   },
   "outputs": [],
   "source": [
    "max_journ_len = 16\n",
    "df = df.groupby('journey_id').filter(lambda x: len(x) <= max_journ_len)"
   ]
  },
  {
   "cell_type": "markdown",
   "metadata": {
    "collapsed": false,
    "id": "1kp-arNbjylG"
   },
   "source": [
    "## How to handle object variables"
   ]
  },
  {
   "cell_type": "markdown",
   "metadata": {
    "collapsed": false,
    "id": "XvXn5gokjylG"
   },
   "source": [
    "###  Dummy variables for country, platform and channel, better but also huge data"
   ]
  },
  {
   "cell_type": "code",
   "execution_count": null,
   "metadata": {
    "id": "ws6y0_KUjylH"
   },
   "outputs": [],
   "source": [
    "df = pd.get_dummies(df, columns = ['channel_id'], prefix = 'channel', prefix_sep = '_', dtype = float)\n",
    "df = pd.get_dummies(df, columns = ['country_name'], prefix = 'country', prefix_sep = '_', dtype = float)\n",
    "df = pd.get_dummies(df, columns = ['platform'], prefix = 'platform', prefix_sep = '_', dtype = float)"
   ]
  },
  {
   "cell_type": "markdown",
   "metadata": {
    "collapsed": false,
    "id": "vPKlHOLOjylH"
   },
   "source": [
    "### Ordinal Encoder, not really accurate, but doesn't blow up df"
   ]
  },
  {
   "cell_type": "code",
   "execution_count": null,
   "metadata": {
    "id": "qvsB3VvhjylI"
   },
   "outputs": [],
   "source": [
    "#ordinal_encoder = OrdinalEncoder()\n",
    "#for column in df.columns:\n",
    "#    if df[column].dtypes == 'object':\n",
    "#        df[column] = ordinal_encoder.fit_transform(df[[column]])"
   ]
  },
  {
   "cell_type": "markdown",
   "metadata": {
    "id": "7drfskiVw77z"
   },
   "source": []
  },
  {
   "cell_type": "markdown",
   "metadata": {
    "id": "y8VxdvGcw8CN"
   },
   "source": [
    "## Split train / test"
   ]
  },
  {
   "cell_type": "code",
   "execution_count": null,
   "metadata": {
    "id": "tEid_nXEw4XD"
   },
   "outputs": [],
   "source": [
    "df_train = df[df['s'] == 1]\n",
    "df_test = df[df['s'] == 2]"
   ]
  },
  {
   "cell_type": "markdown",
   "metadata": {
    "collapsed": false,
    "id": "TPBBcKCojylF"
   },
   "source": [
    "## Remove irrelevant columns"
   ]
  },
  {
   "cell_type": "code",
   "execution_count": null,
   "metadata": {
    "id": "aERoOap_jylG"
   },
   "outputs": [],
   "source": [
    "df_train = df_train.drop(['s', 'timestamp_conversion', 'time_diff'], axis = 1) #cant be used for prediction\n",
    "df_test = df_test.drop(['s', 'timestamp_conversion', 'time_diff'], axis = 1) #cant be used for prediction\n",
    "#df_valid = df_valid.drop(['s', 'timestamp_conversion', 'time_diff'], axis = 1) #cant be used for prediction"
   ]
  },
  {
   "cell_type": "markdown",
   "metadata": {
    "collapsed": false,
    "id": "TGuYORGNjylI"
   },
   "source": [
    "Next step: transform to tensor"
   ]
  },
  {
   "cell_type": "code",
   "execution_count": null,
   "metadata": {
    "id": "1gM7rTvwGvDa"
   },
   "outputs": [],
   "source": [
    "batch_size=800"
   ]
  },
  {
   "cell_type": "code",
   "execution_count": null,
   "metadata": {
    "id": "GUz7hSW6jylI"
   },
   "outputs": [],
   "source": [
    "def mta2tensor(df, max_journ_len):\n",
    "    colx = df.shape[1] - 1\n",
    "    df_transaction = df['transaction']\n",
    "    data = df.drop('transaction', axis=1)\n",
    "    grous = df.groupby('journey_id')\n",
    "    x = []\n",
    "    y = []\n",
    "    cj_count = 1\n",
    "    for i in df['journey_id'].unique():\n",
    "        if  cj_count < batch_size:\n",
    "            x1 = grous.get_group(i)\n",
    "\n",
    "            x1 = x1.drop(['journey_id'], axis=1)\n",
    "            x1 = x1.values.tolist()\n",
    "\n",
    "            y_prop = df_transaction.loc[grous.get_group(i).index]\n",
    "            y_prop = y_prop.values.tolist()\n",
    "\n",
    "            y1 = []\n",
    "            for l in range(len(y_prop)):\n",
    "                y1.append([y_prop[l]])\n",
    "\n",
    "            for j in range(max_journ_len - len(x1)):\n",
    "\n",
    "                x1.append([0] * colx)  # 52 is number of columns without journey_id an transaction\n",
    "                y1.append([0])\n",
    "\n",
    "            x.append(x1)\n",
    "            y.append(y1)\n",
    "            cj_count = cj_count + 1\n",
    "        else: break\n",
    "\n",
    "    return x, y\n",
    "    #tf.convert_to_tensor(x), tf.convert_to_tensor(y)\n"
   ]
  },
  {
   "cell_type": "code",
   "execution_count": null,
   "metadata": {
    "id": "JLAs5Ot0jylI"
   },
   "outputs": [],
   "source": [
    "X_test, Y_test = mta2tensor(df_train, max_journ_len)\n",
    "X_train, Y_train = mta2tensor(df_test, max_journ_len)\n",
    "#X_valid, Y_valid = mta2tensor(df_valid, max_journ_len)"
   ]
  },
  {
   "cell_type": "code",
   "execution_count": null,
   "metadata": {
    "colab": {
     "base_uri": "https://localhost:8080/"
    },
    "id": "o4V1Yfw0D9R5",
    "outputId": "0507eb11-aaac-4124-9740-d526d25e7542"
   },
   "outputs": [
    {
     "output_type": "execute_result",
     "data": {
      "text/plain": [
       "799"
      ]
     },
     "metadata": {},
     "execution_count": 19
    }
   ],
   "source": [
    "len(X_test)"
   ]
  },
  {
   "cell_type": "code",
   "execution_count": null,
   "metadata": {
    "colab": {
     "base_uri": "https://localhost:8080/"
    },
    "id": "FPML1WiatibM",
    "outputId": "4b0cda2a-b274-49fb-ea2f-f5efab4a58ec"
   },
   "outputs": [
    {
     "output_type": "stream",
     "name": "stdout",
     "text": [
      "119 799 16\n"
     ]
    }
   ],
   "source": [
    "input_dimensions = df_train.shape[1] - 1\n",
    "batch_size = len(X_train)\n",
    "time_size = max_journ_len\n",
    "# what are good weights??\n",
    "w_pos =  1\n",
    "w_neg = 50\n",
    "print(input_dimensions, batch_size, time_size)"
   ]
  },
  {
   "cell_type": "markdown",
   "metadata": {
    "id": "ZO08OBAUtYj8"
   },
   "source": []
  },
  {
   "cell_type": "code",
   "execution_count": null,
   "metadata": {
    "id": "4dKImuebnzSQ"
   },
   "outputs": [],
   "source": [
    "import tensorflow as tf\n",
    "\n",
    "class GRU:\n",
    "    \"\"\"Implementation of a Gated Recurrent Unit (GRU) as described in [1].\n",
    "\n",
    "    [1] Chung, J., Gulcehre, C., Cho, K., & Bengio, Y. (2014). Empirical evaluation of gated recurrent neural networks on sequence modeling. arXiv preprint arXiv:1412.3555.  [Titel anhand dieser ArXiv-ID in Citavi-Projekt übernehmen]\n",
    "\n",
    "    Arguments\n",
    "    ---------\n",
    "    input_dimensions: int\n",
    "        The size of the input vectors (x_t).\n",
    "    hidden_size: int\n",
    "        The size of the hidden layer vectors (h_t).\n",
    "    dtype: obj\n",
    "        The datatype used for the variables and constants (optional).\n",
    "    \"\"\"\n",
    "\n",
    "    def __init__(self, input_dimensions, hidden_size, dtype=tf.float64):\n",
    "        self.input_dimensions = input_dimensions\n",
    "        self.hidden_size = hidden_size\n",
    "\n",
    "        # Weights for input vectors of shape (input_dimensions, hidden_size)\n",
    "        self.Wr = tf.Variable(tf.random.truncated_normal(dtype=dtype, shape=(self.input_dimensions, self.hidden_size), mean=0, stddev=0.1), name='Wr')\n",
    "        self.Wz = tf.Variable(tf.random.truncated_normal(dtype=dtype, shape=(self.input_dimensions, self.hidden_size), mean=0, stddev=0.1), name='Wz')\n",
    "        self.Wh = tf.Variable(tf.random.truncated_normal(dtype=dtype, shape=(self.input_dimensions, self.hidden_size), mean=0, stddev=0.1), name='Wh')\n",
    "\n",
    "        # Weights for hidden vectors of shape (hidden_size, hidden_size)\n",
    "        self.Ur = tf.Variable(tf.random.truncated_normal(dtype=dtype, shape=(self.hidden_size, self.hidden_size), mean=0, stddev=0.1), name='Ur')\n",
    "        self.Uz = tf.Variable(tf.random.truncated_normal(dtype=dtype, shape=(self.hidden_size, self.hidden_size), mean=0, stddev=0.1), name='Uz')\n",
    "        self.Uh = tf.Variable(tf.random.truncated_normal(dtype=dtype, shape=(self.hidden_size, self.hidden_size), mean=0, stddev=0.1), name='Uh')\n",
    "\n",
    "        # Biases for hidden vectors of shape (hidden_size,)\n",
    "        self.br = tf.Variable(tf.random.truncated_normal(dtype=dtype, shape=(self.hidden_size,), mean=0, stddev=0.1), name='br')\n",
    "        self.bz = tf.Variable(tf.random.truncated_normal(dtype=dtype, shape=(self.hidden_size,), mean=0, stddev=0.1), name='bz')\n",
    "        self.bh = tf.Variable(tf.random.truncated_normal(dtype=dtype, shape=(self.hidden_size,), mean=0, stddev=0.1), name='bh')\n",
    "\n",
    "        # Define the input layer placeholder\n",
    "        self.input_layer = tf.compat.v1.placeholder(dtype=tf.float64, shape=(None, None, input_dimensions), name='input')\n",
    "\n",
    "        # Put the time-dimension upfront for the scan operator\n",
    "        self.x_t = tf.transpose(self.input_layer, [1, 0, 2], name='x_t')\n",
    "\n",
    "        # A little hack (to obtain the same shape as the input matrix) to define the initial hidden state h_0\n",
    "        self.h_0 = tf.matmul(self.x_t[0, :, :], tf.zeros(dtype=tf.float64, shape=(input_dimensions, hidden_size)), name='h_0')\n",
    "\n",
    "        # Perform the scan operator\n",
    "        self.h_t_transposed = tf.scan(self.forward_pass, self.x_t, initializer=self.h_0, name='h_t_transposed')\n",
    "\n",
    "        # Transpose the result back\n",
    "        self.h_t = tf.transpose(self.h_t_transposed, [1, 0, 2], name='h_t')\n",
    "\n",
    "    def forward_pass(self, h_tm1, x_t):\n",
    "        \"\"\"Perform a forward pass.\n",
    "\n",
    "        Arguments\n",
    "        ---------\n",
    "        h_tm1: np.matrix\n",
    "            The hidden state at the previous timestep (h_{t-1}).\n",
    "        x_t: np.matrix\n",
    "            The input vector.\n",
    "        \"\"\"\n",
    "        # Definitions of z_t and r_t\n",
    "        z_t = tf.sigmoid(tf.matmul(x_t, self.Wz) + tf.matmul(h_tm1, self.Uz) + self.bz)\n",
    "        r_t = tf.sigmoid(tf.matmul(x_t, self.Wr) + tf.matmul(h_tm1, self.Ur) + self.br)\n",
    "\n",
    "        # Definition of h~_t\n",
    "        h_proposal = tf.tanh(tf.matmul(x_t, self.Wh) + tf.matmul(tf.multiply(r_t, h_tm1), self.Uh) + self.bh)\n",
    "\n",
    "        # Compute the next hidden state\n",
    "        h_t = tf.multiply(1 - z_t, h_tm1) + tf.multiply(z_t, h_proposal)\n",
    "\n",
    "        return h_t\n"
   ]
  },
  {
   "cell_type": "code",
   "execution_count": null,
   "metadata": {
    "id": "ztkJgGR7tZ3K"
   },
   "outputs": [],
   "source": [
    "\n",
    "# The input dimensions correspond to the columns of the data set\n",
    "# input_dimensions = 2 previously initialized\n",
    "\n",
    "# Arbitrary number for the size of the hidden state\n",
    "hidden_size = 32\n",
    "\n",
    "# Initialize a session\n",
    "session = tf.compat.v1.Session()\n",
    "\n",
    "# Create a new instance of the GRU model\n",
    "gru = GRU(input_dimensions, hidden_size)\n",
    "\n",
    "# Add an additional layer on top of each of the hidden state outputs\n",
    "W_output = tf.Variable(tf.random.truncated_normal(dtype=tf.float64, shape=(hidden_size, 1), mean=0, stddev=0.1))\n",
    "b_output = tf.Variable(tf.random.truncated_normal(dtype=tf.float64, shape=(1,), mean=0, stddev=0.1))\n",
    "output = tf.map_fn(lambda h_t: tf.matmul(h_t, W_output) + b_output, gru.h_t)\n",
    "\n",
    "output = tf.clip_by_value(output, 1e-7, 1 - 1e-7) #necessary to be able to calculate log\n",
    "\n",
    "# Create a placeholder for the expected output\n",
    "expected_output = tf.compat.v1.placeholder(dtype=tf.float64, shape=(batch_size, time_size, 1), name='expected_output')\n",
    "\n",
    "# Just use quadratic loss\n",
    "#loss = tf.reduce_sum( tf.pow(output - expected_output, 2)) / float(batch_size)\n",
    "# or Cross-entropy loss\n",
    "loss = tf.reduce_mean(-(1.5 * expected_output * tf.math.log(output) + (1 - expected_output) * tf.math.log(1 - output)))\n",
    "\n",
    "# Use the Adam optimizer for training\n",
    "train_step = tf.compat.v1.train.AdamOptimizer(learning_rate=0.01).minimize(loss)\n"
   ]
  },
  {
   "cell_type": "code",
   "execution_count": null,
   "metadata": {
    "colab": {
     "base_uri": "https://localhost:8080/"
    },
    "id": "f7vV6LEItzC4",
    "outputId": "07ffd6fa-b9ff-4b14-bc8c-1fb596201876"
   },
   "outputs": [
    {
     "output_type": "stream",
     "name": "stdout",
     "text": [
      "Iteration: 0, train loss: 0.0871, test loss: 0.5333\n",
      "Iteration: 100, train loss: 0.4180, test loss: 0.5333\n",
      "Iteration: 200, train loss: 0.4180, test loss: 0.5333\n",
      "Iteration: 300, train loss: 0.4180, test loss: 0.5333\n",
      "Iteration: 400, train loss: 0.4180, test loss: 0.5333\n",
      "Iteration: 500, train loss: 0.4180, test loss: 0.5333\n",
      "Iteration: 600, train loss: 0.4180, test loss: 0.5333\n",
      "Iteration: 700, train loss: 0.4180, test loss: 0.5333\n",
      "Iteration: 800, train loss: 0.4180, test loss: 0.5333\n",
      "Iteration: 900, train loss: 0.4180, test loss: 0.5333\n"
     ]
    }
   ],
   "source": [
    "# Initialize all the variables\n",
    "init_variables = tf.compat.v1.global_variables_initializer()\n",
    "session.run(init_variables)\n",
    "\n",
    "# Initialize the losses\n",
    "train_losses = []\n",
    "validation_losses = []\n",
    "ep = []\n",
    "epochs = 1000\n",
    "\n",
    "# Perform all the iterations\n",
    "for epoch in range(epochs):\n",
    "    # Compute the losses\n",
    "    _, train_loss = session.run([train_step, loss], feed_dict={gru.input_layer: X_train, expected_output: Y_train})\n",
    "    validation_loss = session.run(loss, feed_dict={gru.input_layer: X_test, expected_output: Y_test})\n",
    "\n",
    "    # Log the losses\n",
    "    train_losses += [train_loss]\n",
    "    validation_losses += [validation_loss]\n",
    "\n",
    "    # Display an update 10 times\n",
    "    if epoch % (epochs/10) == 0:\n",
    "        print('Iteration: %d, train loss: %.4f, test loss: %.4f' % (epoch, train_loss, validation_loss))"
   ]
  },
  {
   "cell_type": "code",
   "execution_count": null,
   "metadata": {
    "id": "RYTZLOkII5R9"
   },
   "outputs": [],
   "source": [
    "losses= {  # 'epoch': ep,\n",
    "        'train_losses': train_losses,\n",
    "        'test_losses': validation_losses\n",
    "        }\n",
    "losses = pd.DataFrame(losses)\n",
    "# losses['epoch']"
   ]
  },
  {
   "cell_type": "code",
   "source": [
    "plt.plot(train_losses, '-b', label='Train loss')\n",
    "plt.plot(validation_losses, '-r', label='Test loss')\n",
    "plt.legend(loc=0)\n",
    "plt.title('Loss')\n",
    "plt.xlabel('Iteration')\n",
    "plt.ylabel('Loss')\n",
    "plt.show()"
   ],
   "metadata": {
    "colab": {
     "base_uri": "https://localhost:8080/",
     "height": 472
    },
    "id": "sJ3Qmtt4hgfh",
    "outputId": "e2ed10cd-10c2-4b69-ada6-341ec88689b1"
   },
   "execution_count": null,
   "outputs": [
    {
     "output_type": "display_data",
     "data": {
      "text/plain": [
       "<Figure size 640x480 with 1 Axes>"
      ],
      "image/png": "[encoded data removed]"
     },
     "metadata": {}
    }
   ]
  },
  {
   "cell_type": "code",
   "source": [
    "plt.plot(train_losses, '-b', label='Train loss')\n",
    "plt.plot(validation_losses, '-r', label='Test loss')\n",
    "plt.legend(loc=0)\n",
    "plt.title('Loss')\n",
    "plt.xlabel('Iteration')\n",
    "plt.ylabel('Loss')\n",
    "plt.show()"
   ],
   "metadata": {
    "colab": {
     "base_uri": "https://localhost:8080/",
     "height": 472
    },
    "id": "5pVVtxIOZ1wE",
    "outputId": "465cd205-af97-4661-9833-80ca9bcc1ef5"
   },
   "execution_count": null,
   "outputs": [
    {
     "output_type": "display_data",
     "data": {
      "text/plain": [
       "<Figure size 640x480 with 1 Axes>"
      ],
      "image/png": "[encoded data removed]"
     },
     "metadata": {}
    }
   ]
  }
 ],
 "metadata": {
  "colab": {
   "provenance": []
  },
  "kernelspec": {
   "display_name": "Python 3",
   "language": "python",
   "name": "python3"
  },
  "language_info": {
   "codemirror_mode": {
    "name": "ipython",
    "version": 2
   },
   "file_extension": ".py",
   "mimetype": "text/x-python",
   "name": "python",
   "nbconvert_exporter": "python",
   "pygments_lexer": "ipython2",
   "version": "2.7.6"
  }
 },
 "nbformat": 4,
 "nbformat_minor": 0
}
