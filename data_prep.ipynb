{
 "cells": [
  {
   "cell_type": "code",
   "execution_count": 88,
   "metadata": {
    "collapsed": true
   },
   "outputs": [],
   "source": [
    "import pandas as pd\n",
    "import plotly.express as px\n",
    "import matplotlib.pyplot as plt\n",
    "import seaborn as sns\n",
    "import numpy as np\n",
    "from sklearn.preprocessing import OrdinalEncoder\n",
    "\n",
    "import tensorflow as tf"
   ]
  },
  {
   "cell_type": "code",
   "execution_count": 89,
   "outputs": [],
   "source": [
    "df = pd.read_csv(\"data_sample1.csv\")"
   ],
   "metadata": {
    "collapsed": false
   }
  },
  {
   "cell_type": "code",
   "execution_count": 90,
   "outputs": [
    {
     "name": "stdout",
     "output_type": "stream",
     "text": [
      "<class 'pandas.core.frame.DataFrame'>\n",
      "RangeIndex: 1738080 entries, 0 to 1738079\n",
      "Data columns (total 8 columns):\n",
      " #   Column                Dtype  \n",
      "---  ------                -----  \n",
      " 0   transaction           int64  \n",
      " 1   platform              object \n",
      " 2   country_name          object \n",
      " 3   journey_id            int64  \n",
      " 4   channel_id            int64  \n",
      " 5   timestamp             float64\n",
      " 6   timestamp_conversion  float64\n",
      " 7   s                     int64  \n",
      "dtypes: float64(2), int64(4), object(2)\n",
      "memory usage: 106.1+ MB\n"
     ]
    }
   ],
   "source": [
    "#df.describe()\n",
    "df.info()"
   ],
   "metadata": {
    "collapsed": false
   }
  },
  {
   "cell_type": "markdown",
   "source": [
    "## Transform the transaction column s.t. only  last tp before conversioin has transaction == 1"
   ],
   "metadata": {
    "collapsed": false
   }
  },
  {
   "cell_type": "code",
   "execution_count": 91,
   "outputs": [],
   "source": [
    "df['time_diff'] = df['timestamp_conversion'] - df['timestamp'] #create new var for timedifference"
   ],
   "metadata": {
    "collapsed": false
   }
  },
  {
   "cell_type": "code",
   "execution_count": 92,
   "outputs": [
    {
     "data": {
      "text/plain": "         transaction platform   country_name  journey_id  channel_id  \\\n9564               1  android        Germany      141909           6   \n67236              1  android         Russia     1087921          11   \n94167              1  android        Morocco     1510896           6   \n94534              1  android      Argentina     1514509           6   \n147631             1  android         Israel     2353219           6   \n249822             1  android        Germany      141909          11   \n261735             1  android   South Africa     3831461          11   \n356417             1      ios       Cambodia     2634426           3   \n358682             1  android        Austria     4981254          11   \n462168             1  android         Brazil     6047136           6   \n470492             1  android  United States     2335857          11   \n472078             1  android          Chile     6139088          11   \n538674             1  android          Spain     6823373           6   \n594627             1  android      Argentina     1514509           6   \n636261             1  android  United States     2335857          11   \n842463             1  android         Brazil     6047136           6   \n842876             1  android          Spain     6823373           6   \n843124             1  android         Brazil     6047136           6   \n868140             1  android  United States     2630357          11   \n869655             1  android         Canada     1361741           9   \n931121             1  android          Chile     6139088          11   \n939434             1  android         Canada     1361741          11   \n1025591            1  android        Morocco     1510896           6   \n1026242            1  android   South Africa     3831461          11   \n1027415            1  android  United States      148139           6   \n1185735            1  android    Netherlands     2342927           6   \n1213081            1      ios  United States     4458098           3   \n1234136            1  android        Germany      141909           6   \n1234605            1  android  United States      148139           6   \n1278728            1  android         Israel     2353219           6   \n1454085            1  android  United States     2630357           6   \n1464223            1  android        Germany     3831427           9   \n1581238            1      ios        Germany     1360139           3   \n1737799            1  android         Poland      137811          11   \n\n           timestamp  timestamp_conversion  s  time_diff  \n9564     5059.231789           5059.130278  1  -0.101511  \n67236    5651.570887           5651.568333  1  -0.002553  \n94167    4620.550119           4620.509722  1  -0.040397  \n94534    5353.457879           5353.413056  1  -0.044823  \n147631   3734.558201           3734.493889  1  -0.064312  \n249822   5059.282115           5059.130278  1  -0.151837  \n261735   4882.131187           4882.084167  1  -0.047021  \n356417   1328.453941           1328.450556  1  -0.003386  \n358682   2943.411687           2943.410000  1  -0.001687  \n462168   5426.905565           5426.612222  1  -0.293343  \n470492   3084.361033           3084.335000  1  -0.026033  \n472078   6195.443755           6195.435000  1  -0.008755  \n538674   2401.876414           2401.831111  1  -0.045303  \n594627   5353.457637           5353.413056  1  -0.044582  \n636261   3084.360896           3084.335000  1  -0.025896  \n842463   5426.903532           5426.612222  1  -0.291309  \n842876   2401.876395           2401.831111  1  -0.045284  \n843124   5426.897252           5426.612222  1  -0.285030  \n868140   4322.679252           4322.674167  1  -0.005085  \n869655   3017.984663           3015.525833  1  -2.458829  \n931121   6195.443758           6195.435000  1  -0.008758  \n939434   3017.984753           3015.525833  1  -2.458919  \n1025591  4620.550082           4620.509722  1  -0.040360  \n1026242  4882.131022           4882.084167  1  -0.046855  \n1027415  4550.180708           4550.150556  1  -0.030152  \n1185735  6070.594615           6070.586389  1  -0.008226  \n1213081  4895.135779           4895.128889  1  -0.006890  \n1234136  5059.298570           5059.130278  1  -0.168292  \n1234605  4550.175545           4550.150556  1  -0.024990  \n1278728  3734.558230           3734.493889  1  -0.064341  \n1454085  4322.721782           4322.674167  1  -0.047615  \n1464223  3257.500062           3257.482222  1  -0.017840  \n1581238  6255.017831           6254.144444  1  -0.873386  \n1737799  4029.156188           4029.151944  1  -0.004243  ",
      "text/html": "<div>\n<style scoped>\n    .dataframe tbody tr th:only-of-type {\n        vertical-align: middle;\n    }\n\n    .dataframe tbody tr th {\n        vertical-align: top;\n    }\n\n    .dataframe thead th {\n        text-align: right;\n    }\n</style>\n<table border=\"1\" class=\"dataframe\">\n  <thead>\n    <tr style=\"text-align: right;\">\n      <th></th>\n      <th>transaction</th>\n      <th>platform</th>\n      <th>country_name</th>\n      <th>journey_id</th>\n      <th>channel_id</th>\n      <th>timestamp</th>\n      <th>timestamp_conversion</th>\n      <th>s</th>\n      <th>time_diff</th>\n    </tr>\n  </thead>\n  <tbody>\n    <tr>\n      <th>9564</th>\n      <td>1</td>\n      <td>android</td>\n      <td>Germany</td>\n      <td>141909</td>\n      <td>6</td>\n      <td>5059.231789</td>\n      <td>5059.130278</td>\n      <td>1</td>\n      <td>-0.101511</td>\n    </tr>\n    <tr>\n      <th>67236</th>\n      <td>1</td>\n      <td>android</td>\n      <td>Russia</td>\n      <td>1087921</td>\n      <td>11</td>\n      <td>5651.570887</td>\n      <td>5651.568333</td>\n      <td>1</td>\n      <td>-0.002553</td>\n    </tr>\n    <tr>\n      <th>94167</th>\n      <td>1</td>\n      <td>android</td>\n      <td>Morocco</td>\n      <td>1510896</td>\n      <td>6</td>\n      <td>4620.550119</td>\n      <td>4620.509722</td>\n      <td>1</td>\n      <td>-0.040397</td>\n    </tr>\n    <tr>\n      <th>94534</th>\n      <td>1</td>\n      <td>android</td>\n      <td>Argentina</td>\n      <td>1514509</td>\n      <td>6</td>\n      <td>5353.457879</td>\n      <td>5353.413056</td>\n      <td>1</td>\n      <td>-0.044823</td>\n    </tr>\n    <tr>\n      <th>147631</th>\n      <td>1</td>\n      <td>android</td>\n      <td>Israel</td>\n      <td>2353219</td>\n      <td>6</td>\n      <td>3734.558201</td>\n      <td>3734.493889</td>\n      <td>1</td>\n      <td>-0.064312</td>\n    </tr>\n    <tr>\n      <th>249822</th>\n      <td>1</td>\n      <td>android</td>\n      <td>Germany</td>\n      <td>141909</td>\n      <td>11</td>\n      <td>5059.282115</td>\n      <td>5059.130278</td>\n      <td>1</td>\n      <td>-0.151837</td>\n    </tr>\n    <tr>\n      <th>261735</th>\n      <td>1</td>\n      <td>android</td>\n      <td>South Africa</td>\n      <td>3831461</td>\n      <td>11</td>\n      <td>4882.131187</td>\n      <td>4882.084167</td>\n      <td>1</td>\n      <td>-0.047021</td>\n    </tr>\n    <tr>\n      <th>356417</th>\n      <td>1</td>\n      <td>ios</td>\n      <td>Cambodia</td>\n      <td>2634426</td>\n      <td>3</td>\n      <td>1328.453941</td>\n      <td>1328.450556</td>\n      <td>1</td>\n      <td>-0.003386</td>\n    </tr>\n    <tr>\n      <th>358682</th>\n      <td>1</td>\n      <td>android</td>\n      <td>Austria</td>\n      <td>4981254</td>\n      <td>11</td>\n      <td>2943.411687</td>\n      <td>2943.410000</td>\n      <td>1</td>\n      <td>-0.001687</td>\n    </tr>\n    <tr>\n      <th>462168</th>\n      <td>1</td>\n      <td>android</td>\n      <td>Brazil</td>\n      <td>6047136</td>\n      <td>6</td>\n      <td>5426.905565</td>\n      <td>5426.612222</td>\n      <td>1</td>\n      <td>-0.293343</td>\n    </tr>\n    <tr>\n      <th>470492</th>\n      <td>1</td>\n      <td>android</td>\n      <td>United States</td>\n      <td>2335857</td>\n      <td>11</td>\n      <td>3084.361033</td>\n      <td>3084.335000</td>\n      <td>1</td>\n      <td>-0.026033</td>\n    </tr>\n    <tr>\n      <th>472078</th>\n      <td>1</td>\n      <td>android</td>\n      <td>Chile</td>\n      <td>6139088</td>\n      <td>11</td>\n      <td>6195.443755</td>\n      <td>6195.435000</td>\n      <td>1</td>\n      <td>-0.008755</td>\n    </tr>\n    <tr>\n      <th>538674</th>\n      <td>1</td>\n      <td>android</td>\n      <td>Spain</td>\n      <td>6823373</td>\n      <td>6</td>\n      <td>2401.876414</td>\n      <td>2401.831111</td>\n      <td>1</td>\n      <td>-0.045303</td>\n    </tr>\n    <tr>\n      <th>594627</th>\n      <td>1</td>\n      <td>android</td>\n      <td>Argentina</td>\n      <td>1514509</td>\n      <td>6</td>\n      <td>5353.457637</td>\n      <td>5353.413056</td>\n      <td>1</td>\n      <td>-0.044582</td>\n    </tr>\n    <tr>\n      <th>636261</th>\n      <td>1</td>\n      <td>android</td>\n      <td>United States</td>\n      <td>2335857</td>\n      <td>11</td>\n      <td>3084.360896</td>\n      <td>3084.335000</td>\n      <td>1</td>\n      <td>-0.025896</td>\n    </tr>\n    <tr>\n      <th>842463</th>\n      <td>1</td>\n      <td>android</td>\n      <td>Brazil</td>\n      <td>6047136</td>\n      <td>6</td>\n      <td>5426.903532</td>\n      <td>5426.612222</td>\n      <td>1</td>\n      <td>-0.291309</td>\n    </tr>\n    <tr>\n      <th>842876</th>\n      <td>1</td>\n      <td>android</td>\n      <td>Spain</td>\n      <td>6823373</td>\n      <td>6</td>\n      <td>2401.876395</td>\n      <td>2401.831111</td>\n      <td>1</td>\n      <td>-0.045284</td>\n    </tr>\n    <tr>\n      <th>843124</th>\n      <td>1</td>\n      <td>android</td>\n      <td>Brazil</td>\n      <td>6047136</td>\n      <td>6</td>\n      <td>5426.897252</td>\n      <td>5426.612222</td>\n      <td>1</td>\n      <td>-0.285030</td>\n    </tr>\n    <tr>\n      <th>868140</th>\n      <td>1</td>\n      <td>android</td>\n      <td>United States</td>\n      <td>2630357</td>\n      <td>11</td>\n      <td>4322.679252</td>\n      <td>4322.674167</td>\n      <td>1</td>\n      <td>-0.005085</td>\n    </tr>\n    <tr>\n      <th>869655</th>\n      <td>1</td>\n      <td>android</td>\n      <td>Canada</td>\n      <td>1361741</td>\n      <td>9</td>\n      <td>3017.984663</td>\n      <td>3015.525833</td>\n      <td>1</td>\n      <td>-2.458829</td>\n    </tr>\n    <tr>\n      <th>931121</th>\n      <td>1</td>\n      <td>android</td>\n      <td>Chile</td>\n      <td>6139088</td>\n      <td>11</td>\n      <td>6195.443758</td>\n      <td>6195.435000</td>\n      <td>1</td>\n      <td>-0.008758</td>\n    </tr>\n    <tr>\n      <th>939434</th>\n      <td>1</td>\n      <td>android</td>\n      <td>Canada</td>\n      <td>1361741</td>\n      <td>11</td>\n      <td>3017.984753</td>\n      <td>3015.525833</td>\n      <td>1</td>\n      <td>-2.458919</td>\n    </tr>\n    <tr>\n      <th>1025591</th>\n      <td>1</td>\n      <td>android</td>\n      <td>Morocco</td>\n      <td>1510896</td>\n      <td>6</td>\n      <td>4620.550082</td>\n      <td>4620.509722</td>\n      <td>1</td>\n      <td>-0.040360</td>\n    </tr>\n    <tr>\n      <th>1026242</th>\n      <td>1</td>\n      <td>android</td>\n      <td>South Africa</td>\n      <td>3831461</td>\n      <td>11</td>\n      <td>4882.131022</td>\n      <td>4882.084167</td>\n      <td>1</td>\n      <td>-0.046855</td>\n    </tr>\n    <tr>\n      <th>1027415</th>\n      <td>1</td>\n      <td>android</td>\n      <td>United States</td>\n      <td>148139</td>\n      <td>6</td>\n      <td>4550.180708</td>\n      <td>4550.150556</td>\n      <td>1</td>\n      <td>-0.030152</td>\n    </tr>\n    <tr>\n      <th>1185735</th>\n      <td>1</td>\n      <td>android</td>\n      <td>Netherlands</td>\n      <td>2342927</td>\n      <td>6</td>\n      <td>6070.594615</td>\n      <td>6070.586389</td>\n      <td>1</td>\n      <td>-0.008226</td>\n    </tr>\n    <tr>\n      <th>1213081</th>\n      <td>1</td>\n      <td>ios</td>\n      <td>United States</td>\n      <td>4458098</td>\n      <td>3</td>\n      <td>4895.135779</td>\n      <td>4895.128889</td>\n      <td>1</td>\n      <td>-0.006890</td>\n    </tr>\n    <tr>\n      <th>1234136</th>\n      <td>1</td>\n      <td>android</td>\n      <td>Germany</td>\n      <td>141909</td>\n      <td>6</td>\n      <td>5059.298570</td>\n      <td>5059.130278</td>\n      <td>1</td>\n      <td>-0.168292</td>\n    </tr>\n    <tr>\n      <th>1234605</th>\n      <td>1</td>\n      <td>android</td>\n      <td>United States</td>\n      <td>148139</td>\n      <td>6</td>\n      <td>4550.175545</td>\n      <td>4550.150556</td>\n      <td>1</td>\n      <td>-0.024990</td>\n    </tr>\n    <tr>\n      <th>1278728</th>\n      <td>1</td>\n      <td>android</td>\n      <td>Israel</td>\n      <td>2353219</td>\n      <td>6</td>\n      <td>3734.558230</td>\n      <td>3734.493889</td>\n      <td>1</td>\n      <td>-0.064341</td>\n    </tr>\n    <tr>\n      <th>1454085</th>\n      <td>1</td>\n      <td>android</td>\n      <td>United States</td>\n      <td>2630357</td>\n      <td>6</td>\n      <td>4322.721782</td>\n      <td>4322.674167</td>\n      <td>1</td>\n      <td>-0.047615</td>\n    </tr>\n    <tr>\n      <th>1464223</th>\n      <td>1</td>\n      <td>android</td>\n      <td>Germany</td>\n      <td>3831427</td>\n      <td>9</td>\n      <td>3257.500062</td>\n      <td>3257.482222</td>\n      <td>1</td>\n      <td>-0.017840</td>\n    </tr>\n    <tr>\n      <th>1581238</th>\n      <td>1</td>\n      <td>ios</td>\n      <td>Germany</td>\n      <td>1360139</td>\n      <td>3</td>\n      <td>6255.017831</td>\n      <td>6254.144444</td>\n      <td>1</td>\n      <td>-0.873386</td>\n    </tr>\n    <tr>\n      <th>1737799</th>\n      <td>1</td>\n      <td>android</td>\n      <td>Poland</td>\n      <td>137811</td>\n      <td>11</td>\n      <td>4029.156188</td>\n      <td>4029.151944</td>\n      <td>1</td>\n      <td>-0.004243</td>\n    </tr>\n  </tbody>\n</table>\n</div>"
     },
     "execution_count": 92,
     "metadata": {},
     "output_type": "execute_result"
    }
   ],
   "source": [
    "df[df['time_diff'] < 0] #All observations where there's a touchpoint after conversion... 34 rows will be ignored"
   ],
   "metadata": {
    "collapsed": false
   }
  },
  {
   "cell_type": "code",
   "execution_count": 93,
   "outputs": [],
   "source": [
    "df.drop(df[df.time_diff < 0].index, inplace = True) #remove these time_diff < 0 i.e. tp after transaction"
   ],
   "metadata": {
    "collapsed": false
   }
  },
  {
   "cell_type": "code",
   "execution_count": 94,
   "outputs": [],
   "source": [
    "df = df.sort_values('timestamp')\n",
    "df = df.sort_values('journey_id')"
   ],
   "metadata": {
    "collapsed": false
   }
  },
  {
   "cell_type": "code",
   "execution_count": 95,
   "outputs": [],
   "source": [
    "groups = df.groupby('journey_id').time_diff\n",
    "min_val = groups.transform(min) #search minimal time_diff in each group <=> closest tp to conversion\n",
    "\n",
    "cond1 = df.time_diff==min_val #define condition when transaction should be 1\n",
    "\n",
    "df['transaction'] = np.select([cond1], [1], default = 0) #transform transaction\n"
   ],
   "metadata": {
    "collapsed": false
   }
  },
  {
   "cell_type": "markdown",
   "source": [
    "## Long Journeys"
   ],
   "metadata": {
    "collapsed": false
   }
  },
  {
   "cell_type": "code",
   "execution_count": 96,
   "outputs": [
    {
     "name": "stdout",
     "output_type": "stream",
     "text": [
      "count    748466.000000\n",
      "mean          2.322144\n",
      "std           5.670744\n",
      "min           1.000000\n",
      "25%           1.000000\n",
      "50%           1.000000\n",
      "75%           2.000000\n",
      "max        3143.000000\n",
      "Name: s, dtype: float64\n",
      "The  99.0 % quantile is  16.0\n",
      "The  99.99 % quantile is  100.0\n"
     ]
    }
   ],
   "source": [
    "journ_len = df.groupby(\"journey_id\")[\"s\"].count()\n",
    "print(journ_len.describe())\n",
    "p1 = 0.99\n",
    "p2 = 0.9999\n",
    "print('The ', p1*100, '% quantile is ', np.quantile(journ_len, p1))\n",
    "print('The ', p2*100, '% quantile is ', np.quantile(journ_len, p2))"
   ],
   "metadata": {
    "collapsed": false
   }
  },
  {
   "cell_type": "code",
   "execution_count": 97,
   "outputs": [],
   "source": [
    "df = df.groupby('journey_id').filter(lambda x: len(x) <= 16)"
   ],
   "metadata": {
    "collapsed": false
   }
  },
  {
   "cell_type": "code",
   "execution_count": 98,
   "outputs": [
    {
     "name": "stdout",
     "output_type": "stream",
     "text": [
      "count    741646.000000\n",
      "mean          2.041784\n",
      "std           2.046673\n",
      "min           1.000000\n",
      "25%           1.000000\n",
      "50%           1.000000\n",
      "75%           2.000000\n",
      "max          16.000000\n",
      "Name: s, dtype: float64\n",
      "The  99.0 % quantile is  11.0\n",
      "The  99.99 % quantile is  16.0\n"
     ]
    }
   ],
   "source": [
    "journ_len = df.groupby(\"journey_id\")[\"s\"].count()\n",
    "print(journ_len.describe())\n",
    "p1 = 0.99\n",
    "p2 = 0.9999\n",
    "print('The ', p1 * 100, '% quantile is ', np.quantile(journ_len, p1))\n",
    "print('The ', p2 * 100, '% quantile is ', np.quantile(journ_len, p2))\n"
   ],
   "metadata": {
    "collapsed": false
   }
  },
  {
   "cell_type": "markdown",
   "source": [
    "## Remove irrelevant columns"
   ],
   "metadata": {
    "collapsed": false
   }
  },
  {
   "cell_type": "code",
   "execution_count": 99,
   "outputs": [],
   "source": [
    "df = df.drop(['s', 'timestamp_conversion', 'time_diff'], axis = 1) #cant be used for prediction"
   ],
   "metadata": {
    "collapsed": false
   }
  },
  {
   "cell_type": "markdown",
   "source": [
    "## How to handle object variables"
   ],
   "metadata": {
    "collapsed": false
   }
  },
  {
   "cell_type": "markdown",
   "source": [
    "###  Dummy variables for country, platform and channel, better but also huge data"
   ],
   "metadata": {
    "collapsed": false
   }
  },
  {
   "cell_type": "code",
   "execution_count": 100,
   "outputs": [],
   "source": [
    "df = pd.get_dummies(df, columns = ['channel_id'], prefix = 'channel', prefix_sep = '_', dtype = float)\n",
    "df = pd.get_dummies(df, columns = ['country_name'], prefix = 'country', prefix_sep = '_', dtype = float)\n",
    "df = pd.get_dummies(df, columns = ['platform'], prefix = 'platform', prefix_sep = '_', dtype = float)"
   ],
   "metadata": {
    "collapsed": false
   }
  },
  {
   "cell_type": "markdown",
   "source": [
    "### Ordinal Encoder, not really accurate, but doesn't blow up df"
   ],
   "metadata": {
    "collapsed": false
   }
  },
  {
   "cell_type": "code",
   "execution_count": 101,
   "outputs": [],
   "source": [
    "#ordinal_encoder = OrdinalEncoder()\n",
    "#for column in df.columns:\n",
    "#    if df[column].dtypes == 'object':\n",
    "#        df[column] = ordinal_encoder.fit_transform(df[[column]])"
   ],
   "metadata": {
    "collapsed": false
   }
  },
  {
   "cell_type": "code",
   "execution_count": 102,
   "outputs": [
    {
     "data": {
      "text/plain": "        transaction    journey_id     timestamp     channel_1     channel_2  \\\ncount  1.514281e+06  1.514281e+06  1.514281e+06  1.514281e+06  1.514281e+06   \nmean   8.920405e-03  5.827968e+06  4.078644e+03  5.199755e-01  7.659477e-02   \nstd    9.402573e-02  4.145757e+06  1.429707e+03  4.996010e-01  2.659475e-01   \nmin    0.000000e+00  7.000000e+00  9.965556e-03  0.000000e+00  0.000000e+00   \n25%    0.000000e+00  2.257795e+06  2.974278e+03  0.000000e+00  0.000000e+00   \n50%    0.000000e+00  4.995115e+06  4.142417e+03  1.000000e+00  0.000000e+00   \n75%    0.000000e+00  8.980681e+06  5.272426e+03  1.000000e+00  0.000000e+00   \nmax    1.000000e+00  1.497620e+07  6.385067e+03  1.000000e+00  1.000000e+00   \n\n          channel_3     channel_4     channel_5     channel_6     channel_7  \\\ncount  1.514281e+06  1.514281e+06  1.514281e+06  1.514281e+06  1.514281e+06   \nmean   1.364377e-01  1.480571e-02  1.311910e-01  3.277001e-02  5.765046e-02   \nstd    3.432529e-01  1.207746e-01  3.376092e-01  1.780341e-01  2.330814e-01   \nmin    0.000000e+00  0.000000e+00  0.000000e+00  0.000000e+00  0.000000e+00   \n25%    0.000000e+00  0.000000e+00  0.000000e+00  0.000000e+00  0.000000e+00   \n50%    0.000000e+00  0.000000e+00  0.000000e+00  0.000000e+00  0.000000e+00   \n75%    0.000000e+00  0.000000e+00  0.000000e+00  0.000000e+00  0.000000e+00   \nmax    1.000000e+00  1.000000e+00  1.000000e+00  1.000000e+00  1.000000e+00   \n\n       ...  country_Vietnam  country_Wallis and Futuna  country_Yemen  \\\ncount  ...     1.514281e+06               1.514281e+06   1.514281e+06   \nmean   ...     6.994078e-03               6.603794e-07   2.047176e-05   \nstd    ...     8.333766e-02               8.126373e-04   4.524528e-03   \nmin    ...     0.000000e+00               0.000000e+00   0.000000e+00   \n25%    ...     0.000000e+00               0.000000e+00   0.000000e+00   \n50%    ...     0.000000e+00               0.000000e+00   0.000000e+00   \n75%    ...     0.000000e+00               0.000000e+00   0.000000e+00   \nmax    ...     1.000000e+00               1.000000e+00   1.000000e+00   \n\n       country_Zambia  country_Zimbabwe  country_Åland  platform_android  \\\ncount    1.514281e+06      1.514281e+06   1.514281e+06      1.514281e+06   \nmean     8.849084e-05      1.023588e-04   5.216997e-05      1.052843e-02   \nstd      9.406544e-03      1.011674e-02   7.222692e-03      1.020666e-01   \nmin      0.000000e+00      0.000000e+00   0.000000e+00      0.000000e+00   \n25%      0.000000e+00      0.000000e+00   0.000000e+00      0.000000e+00   \n50%      0.000000e+00      0.000000e+00   0.000000e+00      0.000000e+00   \n75%      0.000000e+00      0.000000e+00   0.000000e+00      0.000000e+00   \nmax      1.000000e+00      1.000000e+00   1.000000e+00      1.000000e+00   \n\n       platform_desktop  platform_ios  platform_mobileWeb  \ncount      1.514281e+06  1.514281e+06        1.514281e+06  \nmean       3.948395e-01  1.496750e-02        5.796645e-01  \nstd        4.888164e-01  1.214227e-01        4.936129e-01  \nmin        0.000000e+00  0.000000e+00        0.000000e+00  \n25%        0.000000e+00  0.000000e+00        0.000000e+00  \n50%        0.000000e+00  0.000000e+00        1.000000e+00  \n75%        1.000000e+00  0.000000e+00        1.000000e+00  \nmax        1.000000e+00  1.000000e+00        1.000000e+00  \n\n[8 rows x 264 columns]",
      "text/html": "<div>\n<style scoped>\n    .dataframe tbody tr th:only-of-type {\n        vertical-align: middle;\n    }\n\n    .dataframe tbody tr th {\n        vertical-align: top;\n    }\n\n    .dataframe thead th {\n        text-align: right;\n    }\n</style>\n<table border=\"1\" class=\"dataframe\">\n  <thead>\n    <tr style=\"text-align: right;\">\n      <th></th>\n      <th>transaction</th>\n      <th>journey_id</th>\n      <th>timestamp</th>\n      <th>channel_1</th>\n      <th>channel_2</th>\n      <th>channel_3</th>\n      <th>channel_4</th>\n      <th>channel_5</th>\n      <th>channel_6</th>\n      <th>channel_7</th>\n      <th>...</th>\n      <th>country_Vietnam</th>\n      <th>country_Wallis and Futuna</th>\n      <th>country_Yemen</th>\n      <th>country_Zambia</th>\n      <th>country_Zimbabwe</th>\n      <th>country_Åland</th>\n      <th>platform_android</th>\n      <th>platform_desktop</th>\n      <th>platform_ios</th>\n      <th>platform_mobileWeb</th>\n    </tr>\n  </thead>\n  <tbody>\n    <tr>\n      <th>count</th>\n      <td>1.514281e+06</td>\n      <td>1.514281e+06</td>\n      <td>1.514281e+06</td>\n      <td>1.514281e+06</td>\n      <td>1.514281e+06</td>\n      <td>1.514281e+06</td>\n      <td>1.514281e+06</td>\n      <td>1.514281e+06</td>\n      <td>1.514281e+06</td>\n      <td>1.514281e+06</td>\n      <td>...</td>\n      <td>1.514281e+06</td>\n      <td>1.514281e+06</td>\n      <td>1.514281e+06</td>\n      <td>1.514281e+06</td>\n      <td>1.514281e+06</td>\n      <td>1.514281e+06</td>\n      <td>1.514281e+06</td>\n      <td>1.514281e+06</td>\n      <td>1.514281e+06</td>\n      <td>1.514281e+06</td>\n    </tr>\n    <tr>\n      <th>mean</th>\n      <td>8.920405e-03</td>\n      <td>5.827968e+06</td>\n      <td>4.078644e+03</td>\n      <td>5.199755e-01</td>\n      <td>7.659477e-02</td>\n      <td>1.364377e-01</td>\n      <td>1.480571e-02</td>\n      <td>1.311910e-01</td>\n      <td>3.277001e-02</td>\n      <td>5.765046e-02</td>\n      <td>...</td>\n      <td>6.994078e-03</td>\n      <td>6.603794e-07</td>\n      <td>2.047176e-05</td>\n      <td>8.849084e-05</td>\n      <td>1.023588e-04</td>\n      <td>5.216997e-05</td>\n      <td>1.052843e-02</td>\n      <td>3.948395e-01</td>\n      <td>1.496750e-02</td>\n      <td>5.796645e-01</td>\n    </tr>\n    <tr>\n      <th>std</th>\n      <td>9.402573e-02</td>\n      <td>4.145757e+06</td>\n      <td>1.429707e+03</td>\n      <td>4.996010e-01</td>\n      <td>2.659475e-01</td>\n      <td>3.432529e-01</td>\n      <td>1.207746e-01</td>\n      <td>3.376092e-01</td>\n      <td>1.780341e-01</td>\n      <td>2.330814e-01</td>\n      <td>...</td>\n      <td>8.333766e-02</td>\n      <td>8.126373e-04</td>\n      <td>4.524528e-03</td>\n      <td>9.406544e-03</td>\n      <td>1.011674e-02</td>\n      <td>7.222692e-03</td>\n      <td>1.020666e-01</td>\n      <td>4.888164e-01</td>\n      <td>1.214227e-01</td>\n      <td>4.936129e-01</td>\n    </tr>\n    <tr>\n      <th>min</th>\n      <td>0.000000e+00</td>\n      <td>7.000000e+00</td>\n      <td>9.965556e-03</td>\n      <td>0.000000e+00</td>\n      <td>0.000000e+00</td>\n      <td>0.000000e+00</td>\n      <td>0.000000e+00</td>\n      <td>0.000000e+00</td>\n      <td>0.000000e+00</td>\n      <td>0.000000e+00</td>\n      <td>...</td>\n      <td>0.000000e+00</td>\n      <td>0.000000e+00</td>\n      <td>0.000000e+00</td>\n      <td>0.000000e+00</td>\n      <td>0.000000e+00</td>\n      <td>0.000000e+00</td>\n      <td>0.000000e+00</td>\n      <td>0.000000e+00</td>\n      <td>0.000000e+00</td>\n      <td>0.000000e+00</td>\n    </tr>\n    <tr>\n      <th>25%</th>\n      <td>0.000000e+00</td>\n      <td>2.257795e+06</td>\n      <td>2.974278e+03</td>\n      <td>0.000000e+00</td>\n      <td>0.000000e+00</td>\n      <td>0.000000e+00</td>\n      <td>0.000000e+00</td>\n      <td>0.000000e+00</td>\n      <td>0.000000e+00</td>\n      <td>0.000000e+00</td>\n      <td>...</td>\n      <td>0.000000e+00</td>\n      <td>0.000000e+00</td>\n      <td>0.000000e+00</td>\n      <td>0.000000e+00</td>\n      <td>0.000000e+00</td>\n      <td>0.000000e+00</td>\n      <td>0.000000e+00</td>\n      <td>0.000000e+00</td>\n      <td>0.000000e+00</td>\n      <td>0.000000e+00</td>\n    </tr>\n    <tr>\n      <th>50%</th>\n      <td>0.000000e+00</td>\n      <td>4.995115e+06</td>\n      <td>4.142417e+03</td>\n      <td>1.000000e+00</td>\n      <td>0.000000e+00</td>\n      <td>0.000000e+00</td>\n      <td>0.000000e+00</td>\n      <td>0.000000e+00</td>\n      <td>0.000000e+00</td>\n      <td>0.000000e+00</td>\n      <td>...</td>\n      <td>0.000000e+00</td>\n      <td>0.000000e+00</td>\n      <td>0.000000e+00</td>\n      <td>0.000000e+00</td>\n      <td>0.000000e+00</td>\n      <td>0.000000e+00</td>\n      <td>0.000000e+00</td>\n      <td>0.000000e+00</td>\n      <td>0.000000e+00</td>\n      <td>1.000000e+00</td>\n    </tr>\n    <tr>\n      <th>75%</th>\n      <td>0.000000e+00</td>\n      <td>8.980681e+06</td>\n      <td>5.272426e+03</td>\n      <td>1.000000e+00</td>\n      <td>0.000000e+00</td>\n      <td>0.000000e+00</td>\n      <td>0.000000e+00</td>\n      <td>0.000000e+00</td>\n      <td>0.000000e+00</td>\n      <td>0.000000e+00</td>\n      <td>...</td>\n      <td>0.000000e+00</td>\n      <td>0.000000e+00</td>\n      <td>0.000000e+00</td>\n      <td>0.000000e+00</td>\n      <td>0.000000e+00</td>\n      <td>0.000000e+00</td>\n      <td>0.000000e+00</td>\n      <td>1.000000e+00</td>\n      <td>0.000000e+00</td>\n      <td>1.000000e+00</td>\n    </tr>\n    <tr>\n      <th>max</th>\n      <td>1.000000e+00</td>\n      <td>1.497620e+07</td>\n      <td>6.385067e+03</td>\n      <td>1.000000e+00</td>\n      <td>1.000000e+00</td>\n      <td>1.000000e+00</td>\n      <td>1.000000e+00</td>\n      <td>1.000000e+00</td>\n      <td>1.000000e+00</td>\n      <td>1.000000e+00</td>\n      <td>...</td>\n      <td>1.000000e+00</td>\n      <td>1.000000e+00</td>\n      <td>1.000000e+00</td>\n      <td>1.000000e+00</td>\n      <td>1.000000e+00</td>\n      <td>1.000000e+00</td>\n      <td>1.000000e+00</td>\n      <td>1.000000e+00</td>\n      <td>1.000000e+00</td>\n      <td>1.000000e+00</td>\n    </tr>\n  </tbody>\n</table>\n<p>8 rows × 264 columns</p>\n</div>"
     },
     "execution_count": 102,
     "metadata": {},
     "output_type": "execute_result"
    }
   ],
   "source": [
    "df.describe()"
   ],
   "metadata": {
    "collapsed": false
   }
  },
  {
   "cell_type": "markdown",
   "source": [
    "Next step: transform to tensor"
   ],
   "metadata": {
    "collapsed": false
   }
  }
 ],
 "metadata": {
  "kernelspec": {
   "display_name": "Python 3",
   "language": "python",
   "name": "python3"
  },
  "language_info": {
   "codemirror_mode": {
    "name": "ipython",
    "version": 2
   },
   "file_extension": ".py",
   "mimetype": "text/x-python",
   "name": "python",
   "nbconvert_exporter": "python",
   "pygments_lexer": "ipython2",
   "version": "2.7.6"
  }
 },
 "nbformat": 4,
 "nbformat_minor": 0
}
