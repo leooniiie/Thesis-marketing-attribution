{
 "cells": [
  {
   "cell_type": "code",
   "execution_count": 5,
   "metadata": {
    "collapsed": true
   },
   "outputs": [],
   "source": [
    "import pandas as pd\n",
    "import plotly.express as px\n",
    "import matplotlib.pyplot as plt\n",
    "import seaborn as sns\n",
    "import numpy as np\n",
    "from sklearn.preprocessing import OrdinalEncoder\n",
    "\n",
    "import tensorflow as tf"
   ]
  },
  {
   "cell_type": "code",
   "execution_count": 6,
   "outputs": [],
   "source": [
    "df = pd.read_csv(\"data_sample1.csv\")"
   ],
   "metadata": {
    "collapsed": false
   }
  },
  {
   "cell_type": "code",
   "execution_count": 7,
   "outputs": [
    {
     "name": "stdout",
     "output_type": "stream",
     "text": [
      "<class 'pandas.core.frame.DataFrame'>\n",
      "Int64Index: 1290 entries, 0 to 1676009\n",
      "Data columns (total 8 columns):\n",
      " #   Column                Non-Null Count  Dtype  \n",
      "---  ------                --------------  -----  \n",
      " 0   transaction           1290 non-null   int64  \n",
      " 1   platform              1290 non-null   object \n",
      " 2   country_name          1290 non-null   object \n",
      " 3   journey_id            1290 non-null   int64  \n",
      " 4   channel_id            1290 non-null   int64  \n",
      " 5   timestamp             1290 non-null   float64\n",
      " 6   timestamp_conversion  0 non-null      float64\n",
      " 7   s                     1290 non-null   int64  \n",
      "dtypes: float64(2), int64(4), object(2)\n",
      "memory usage: 90.7+ KB\n"
     ]
    }
   ],
   "source": [
    "#df.describe()\n",
    "df = df[df['journey_id'].isin(range(2000))]  # only temporary to have less data\n",
    "df.info()"
   ],
   "metadata": {
    "collapsed": false
   }
  },
  {
   "cell_type": "markdown",
   "source": [
    "## Transform the transaction column s.t. only  last tp before conversioin has transaction == 1"
   ],
   "metadata": {
    "collapsed": false
   }
  },
  {
   "cell_type": "code",
   "execution_count": 8,
   "outputs": [],
   "source": [
    "df['time_diff'] = df['timestamp_conversion'] - df['timestamp'] #create new var for timedifference"
   ],
   "metadata": {
    "collapsed": false
   }
  },
  {
   "cell_type": "code",
   "execution_count": 9,
   "outputs": [
    {
     "data": {
      "text/plain": "Empty DataFrame\nColumns: [transaction, platform, country_name, journey_id, channel_id, timestamp, timestamp_conversion, s, time_diff]\nIndex: []",
      "text/html": "<div>\n<style scoped>\n    .dataframe tbody tr th:only-of-type {\n        vertical-align: middle;\n    }\n\n    .dataframe tbody tr th {\n        vertical-align: top;\n    }\n\n    .dataframe thead th {\n        text-align: right;\n    }\n</style>\n<table border=\"1\" class=\"dataframe\">\n  <thead>\n    <tr style=\"text-align: right;\">\n      <th></th>\n      <th>transaction</th>\n      <th>platform</th>\n      <th>country_name</th>\n      <th>journey_id</th>\n      <th>channel_id</th>\n      <th>timestamp</th>\n      <th>timestamp_conversion</th>\n      <th>s</th>\n      <th>time_diff</th>\n    </tr>\n  </thead>\n  <tbody>\n  </tbody>\n</table>\n</div>"
     },
     "execution_count": 9,
     "metadata": {},
     "output_type": "execute_result"
    }
   ],
   "source": [
    "df[df['time_diff'] < 0] #All observations where there's a touchpoint after conversion... 34 rows will be ignored"
   ],
   "metadata": {
    "collapsed": false
   }
  },
  {
   "cell_type": "code",
   "execution_count": 10,
   "outputs": [],
   "source": [
    "df.drop(df[df.time_diff < 0].index, inplace = True) #remove these time_diff < 0 i.e. tp after transaction"
   ],
   "metadata": {
    "collapsed": false
   }
  },
  {
   "cell_type": "code",
   "execution_count": 11,
   "outputs": [],
   "source": [
    "df = df.sort_values('timestamp')\n",
    "df = df.sort_values('journey_id')"
   ],
   "metadata": {
    "collapsed": false
   }
  },
  {
   "cell_type": "code",
   "execution_count": 12,
   "outputs": [],
   "source": [
    "groups = df.groupby('journey_id').time_diff\n",
    "min_val = groups.transform(min) #search minimal time_diff in each group <=> closest tp to conversion\n",
    "\n",
    "cond1 = df.time_diff==min_val #define condition when transaction should be 1\n",
    "\n",
    "df['transaction'] = np.select([cond1], [1], default = 0) #transform transaction\n"
   ],
   "metadata": {
    "collapsed": false
   }
  },
  {
   "cell_type": "markdown",
   "source": [
    "## Long Journeys"
   ],
   "metadata": {
    "collapsed": false
   }
  },
  {
   "cell_type": "code",
   "execution_count": 13,
   "outputs": [
    {
     "name": "stdout",
     "output_type": "stream",
     "text": [
      "count     99.000000\n",
      "mean      13.030303\n",
      "std       48.932159\n",
      "min        1.000000\n",
      "25%        1.000000\n",
      "50%        3.000000\n",
      "75%        8.500000\n",
      "max      414.000000\n",
      "Name: s, dtype: float64\n",
      "The  99.0 % quantile is  265.0399999999994\n",
      "The  99.99 % quantile is  412.51040000000023\n"
     ]
    }
   ],
   "source": [
    "journ_len = df.groupby(\"journey_id\")[\"s\"].count()\n",
    "print(journ_len.describe())\n",
    "p1 = 0.99\n",
    "p2 = 0.9999\n",
    "print('The ', p1*100, '% quantile is ', np.quantile(journ_len, p1))\n",
    "print('The ', p2*100, '% quantile is ', np.quantile(journ_len, p2))"
   ],
   "metadata": {
    "collapsed": false
   }
  },
  {
   "cell_type": "code",
   "execution_count": 14,
   "outputs": [],
   "source": [
    "max_journ_len = 16\n",
    "df = df.groupby('journey_id').filter(lambda x: len(x) <= max_journ_len)"
   ],
   "metadata": {
    "collapsed": false
   }
  },
  {
   "cell_type": "markdown",
   "source": [
    "## Remove irrelevant columns"
   ],
   "metadata": {
    "collapsed": false
   }
  },
  {
   "cell_type": "code",
   "execution_count": 15,
   "outputs": [],
   "source": [
    "df = df.drop(['s', 'timestamp_conversion', 'time_diff'], axis = 1) #cant be used for prediction"
   ],
   "metadata": {
    "collapsed": false
   }
  },
  {
   "cell_type": "markdown",
   "source": [
    "## How to handle object variables"
   ],
   "metadata": {
    "collapsed": false
   }
  },
  {
   "cell_type": "markdown",
   "source": [
    "###  Dummy variables for country, platform and channel, better but also huge data"
   ],
   "metadata": {
    "collapsed": false
   }
  },
  {
   "cell_type": "code",
   "execution_count": 16,
   "outputs": [],
   "source": [
    "df = pd.get_dummies(df, columns = ['channel_id'], prefix = 'channel', prefix_sep = '_', dtype = float)\n",
    "df = pd.get_dummies(df, columns = ['country_name'], prefix = 'country', prefix_sep = '_', dtype = float)\n",
    "df = pd.get_dummies(df, columns = ['platform'], prefix = 'platform', prefix_sep = '_', dtype = float)"
   ],
   "metadata": {
    "collapsed": false
   }
  },
  {
   "cell_type": "markdown",
   "source": [
    "### Ordinal Encoder, not really accurate, but doesn't blow up df"
   ],
   "metadata": {
    "collapsed": false
   }
  },
  {
   "cell_type": "code",
   "execution_count": 17,
   "outputs": [],
   "source": [
    "#ordinal_encoder = OrdinalEncoder()\n",
    "#for column in df.columns:\n",
    "#    if df[column].dtypes == 'object':\n",
    "#        df[column] = ordinal_encoder.fit_transform(df[[column]])"
   ],
   "metadata": {
    "collapsed": false
   }
  },
  {
   "cell_type": "code",
   "execution_count": 18,
   "outputs": [
    {
     "data": {
      "text/plain": "       transaction   journey_id    timestamp   channel_1   channel_2  \\\ncount        394.0   394.000000   394.000000  394.000000  394.000000   \nmean           0.0   879.124365  4039.037559    0.553299    0.081218   \nstd            0.0   617.352009  1492.090242    0.497783    0.273517   \nmin            0.0     7.000000    47.649824    0.000000    0.000000   \n25%            0.0   361.500000  3039.233737    0.000000    0.000000   \n50%            0.0   797.500000  3844.142053    1.000000    0.000000   \n75%            0.0  1493.000000  5375.003310    1.000000    0.000000   \nmax            0.0  1965.000000  6357.719382    1.000000    1.000000   \n\n        channel_3   channel_4   channel_5   channel_6   channel_7  ...  \\\ncount  394.000000  394.000000  394.000000  394.000000  394.000000  ...   \nmean     0.119289    0.045685    0.091371    0.010152    0.038071  ...   \nstd      0.324541    0.209067    0.288502    0.100373    0.191611  ...   \nmin      0.000000    0.000000    0.000000    0.000000    0.000000  ...   \n25%      0.000000    0.000000    0.000000    0.000000    0.000000  ...   \n50%      0.000000    0.000000    0.000000    0.000000    0.000000  ...   \n75%      0.000000    0.000000    0.000000    0.000000    0.000000  ...   \nmax      1.000000    1.000000    1.000000    1.000000    1.000000  ...   \n\n       country_Switzerland  country_Thailand  country_Turkey  country_Ukraine  \\\ncount           394.000000        394.000000      394.000000       394.000000   \nmean              0.025381          0.005076        0.012690         0.020305   \nstd               0.157478          0.071156        0.112077         0.141219   \nmin               0.000000          0.000000        0.000000         0.000000   \n25%               0.000000          0.000000        0.000000         0.000000   \n50%               0.000000          0.000000        0.000000         0.000000   \n75%               0.000000          0.000000        0.000000         0.000000   \nmax               1.000000          1.000000        1.000000         1.000000   \n\n       country_United Kingdom  country_United States  country_Vietnam  \\\ncount               394.00000             394.000000       394.000000   \nmean                  0.06599               0.121827         0.022843   \nstd                   0.24858               0.327502         0.149592   \nmin                   0.00000               0.000000         0.000000   \n25%                   0.00000               0.000000         0.000000   \n50%                   0.00000               0.000000         0.000000   \n75%                   0.00000               0.000000         0.000000   \nmax                   1.00000               1.000000         1.000000   \n\n       platform_android  platform_desktop  platform_mobileWeb  \ncount        394.000000        394.000000          394.000000  \nmean           0.053299          0.385787            0.560914  \nstd            0.224916          0.487400            0.496907  \nmin            0.000000          0.000000            0.000000  \n25%            0.000000          0.000000            0.000000  \n50%            0.000000          0.000000            1.000000  \n75%            0.000000          1.000000            1.000000  \nmax            1.000000          1.000000            1.000000  \n\n[8 rows x 54 columns]",
      "text/html": "<div>\n<style scoped>\n    .dataframe tbody tr th:only-of-type {\n        vertical-align: middle;\n    }\n\n    .dataframe tbody tr th {\n        vertical-align: top;\n    }\n\n    .dataframe thead th {\n        text-align: right;\n    }\n</style>\n<table border=\"1\" class=\"dataframe\">\n  <thead>\n    <tr style=\"text-align: right;\">\n      <th></th>\n      <th>transaction</th>\n      <th>journey_id</th>\n      <th>timestamp</th>\n      <th>channel_1</th>\n      <th>channel_2</th>\n      <th>channel_3</th>\n      <th>channel_4</th>\n      <th>channel_5</th>\n      <th>channel_6</th>\n      <th>channel_7</th>\n      <th>...</th>\n      <th>country_Switzerland</th>\n      <th>country_Thailand</th>\n      <th>country_Turkey</th>\n      <th>country_Ukraine</th>\n      <th>country_United Kingdom</th>\n      <th>country_United States</th>\n      <th>country_Vietnam</th>\n      <th>platform_android</th>\n      <th>platform_desktop</th>\n      <th>platform_mobileWeb</th>\n    </tr>\n  </thead>\n  <tbody>\n    <tr>\n      <th>count</th>\n      <td>394.0</td>\n      <td>394.000000</td>\n      <td>394.000000</td>\n      <td>394.000000</td>\n      <td>394.000000</td>\n      <td>394.000000</td>\n      <td>394.000000</td>\n      <td>394.000000</td>\n      <td>394.000000</td>\n      <td>394.000000</td>\n      <td>...</td>\n      <td>394.000000</td>\n      <td>394.000000</td>\n      <td>394.000000</td>\n      <td>394.000000</td>\n      <td>394.00000</td>\n      <td>394.000000</td>\n      <td>394.000000</td>\n      <td>394.000000</td>\n      <td>394.000000</td>\n      <td>394.000000</td>\n    </tr>\n    <tr>\n      <th>mean</th>\n      <td>0.0</td>\n      <td>879.124365</td>\n      <td>4039.037559</td>\n      <td>0.553299</td>\n      <td>0.081218</td>\n      <td>0.119289</td>\n      <td>0.045685</td>\n      <td>0.091371</td>\n      <td>0.010152</td>\n      <td>0.038071</td>\n      <td>...</td>\n      <td>0.025381</td>\n      <td>0.005076</td>\n      <td>0.012690</td>\n      <td>0.020305</td>\n      <td>0.06599</td>\n      <td>0.121827</td>\n      <td>0.022843</td>\n      <td>0.053299</td>\n      <td>0.385787</td>\n      <td>0.560914</td>\n    </tr>\n    <tr>\n      <th>std</th>\n      <td>0.0</td>\n      <td>617.352009</td>\n      <td>1492.090242</td>\n      <td>0.497783</td>\n      <td>0.273517</td>\n      <td>0.324541</td>\n      <td>0.209067</td>\n      <td>0.288502</td>\n      <td>0.100373</td>\n      <td>0.191611</td>\n      <td>...</td>\n      <td>0.157478</td>\n      <td>0.071156</td>\n      <td>0.112077</td>\n      <td>0.141219</td>\n      <td>0.24858</td>\n      <td>0.327502</td>\n      <td>0.149592</td>\n      <td>0.224916</td>\n      <td>0.487400</td>\n      <td>0.496907</td>\n    </tr>\n    <tr>\n      <th>min</th>\n      <td>0.0</td>\n      <td>7.000000</td>\n      <td>47.649824</td>\n      <td>0.000000</td>\n      <td>0.000000</td>\n      <td>0.000000</td>\n      <td>0.000000</td>\n      <td>0.000000</td>\n      <td>0.000000</td>\n      <td>0.000000</td>\n      <td>...</td>\n      <td>0.000000</td>\n      <td>0.000000</td>\n      <td>0.000000</td>\n      <td>0.000000</td>\n      <td>0.00000</td>\n      <td>0.000000</td>\n      <td>0.000000</td>\n      <td>0.000000</td>\n      <td>0.000000</td>\n      <td>0.000000</td>\n    </tr>\n    <tr>\n      <th>25%</th>\n      <td>0.0</td>\n      <td>361.500000</td>\n      <td>3039.233737</td>\n      <td>0.000000</td>\n      <td>0.000000</td>\n      <td>0.000000</td>\n      <td>0.000000</td>\n      <td>0.000000</td>\n      <td>0.000000</td>\n      <td>0.000000</td>\n      <td>...</td>\n      <td>0.000000</td>\n      <td>0.000000</td>\n      <td>0.000000</td>\n      <td>0.000000</td>\n      <td>0.00000</td>\n      <td>0.000000</td>\n      <td>0.000000</td>\n      <td>0.000000</td>\n      <td>0.000000</td>\n      <td>0.000000</td>\n    </tr>\n    <tr>\n      <th>50%</th>\n      <td>0.0</td>\n      <td>797.500000</td>\n      <td>3844.142053</td>\n      <td>1.000000</td>\n      <td>0.000000</td>\n      <td>0.000000</td>\n      <td>0.000000</td>\n      <td>0.000000</td>\n      <td>0.000000</td>\n      <td>0.000000</td>\n      <td>...</td>\n      <td>0.000000</td>\n      <td>0.000000</td>\n      <td>0.000000</td>\n      <td>0.000000</td>\n      <td>0.00000</td>\n      <td>0.000000</td>\n      <td>0.000000</td>\n      <td>0.000000</td>\n      <td>0.000000</td>\n      <td>1.000000</td>\n    </tr>\n    <tr>\n      <th>75%</th>\n      <td>0.0</td>\n      <td>1493.000000</td>\n      <td>5375.003310</td>\n      <td>1.000000</td>\n      <td>0.000000</td>\n      <td>0.000000</td>\n      <td>0.000000</td>\n      <td>0.000000</td>\n      <td>0.000000</td>\n      <td>0.000000</td>\n      <td>...</td>\n      <td>0.000000</td>\n      <td>0.000000</td>\n      <td>0.000000</td>\n      <td>0.000000</td>\n      <td>0.00000</td>\n      <td>0.000000</td>\n      <td>0.000000</td>\n      <td>0.000000</td>\n      <td>1.000000</td>\n      <td>1.000000</td>\n    </tr>\n    <tr>\n      <th>max</th>\n      <td>0.0</td>\n      <td>1965.000000</td>\n      <td>6357.719382</td>\n      <td>1.000000</td>\n      <td>1.000000</td>\n      <td>1.000000</td>\n      <td>1.000000</td>\n      <td>1.000000</td>\n      <td>1.000000</td>\n      <td>1.000000</td>\n      <td>...</td>\n      <td>1.000000</td>\n      <td>1.000000</td>\n      <td>1.000000</td>\n      <td>1.000000</td>\n      <td>1.00000</td>\n      <td>1.000000</td>\n      <td>1.000000</td>\n      <td>1.000000</td>\n      <td>1.000000</td>\n      <td>1.000000</td>\n    </tr>\n  </tbody>\n</table>\n<p>8 rows × 54 columns</p>\n</div>"
     },
     "execution_count": 18,
     "metadata": {},
     "output_type": "execute_result"
    }
   ],
   "source": [
    "df.describe()"
   ],
   "metadata": {
    "collapsed": false
   }
  },
  {
   "cell_type": "markdown",
   "source": [
    "Next step: transform to tensor"
   ],
   "metadata": {
    "collapsed": false
   }
  },
  {
   "cell_type": "code",
   "execution_count": 49,
   "outputs": [],
   "source": [
    "def mta2tensor(df):\n",
    "    df_transaction = df['transaction']\n",
    "    data = df.drop('transaction', axis=1)\n",
    "    grous = df.groupby('journey_id')\n",
    "    x = []\n",
    "    y = []\n",
    "\n",
    "    for i in df['journey_id'].unique():\n",
    "        x1 = grous.get_group(i)\n",
    "\n",
    "        x1 = x1.drop(['journey_id'], axis=1)\n",
    "        x1 = x1.values.tolist()\n",
    "\n",
    "        y_prop = df_transaction.loc[grous.get_group(i).index]\n",
    "        y_prop = y_prop.values.tolist()\n",
    "\n",
    "        y1 = []\n",
    "        for l in range(len(y_prop)):\n",
    "            y1.append([y_prop[l]])\n",
    "\n",
    "        for j in range(max_journ_len - len(x1)):\n",
    "            x1.append([0] * 52)  # 52 is number of columns without journey_id an transaction\n",
    "            y1.append([0])\n",
    "        x.append(x1)\n",
    "        y.append(y1)\n",
    "\n",
    "\n",
    "    return tf.convert_to_tensor(x), tf.convert_to_tensor(y)\n"
   ],
   "metadata": {
    "collapsed": false
   }
  },
  {
   "cell_type": "code",
   "execution_count": 48,
   "outputs": [
    {
     "name": "stdout",
     "output_type": "stream",
     "text": [
      "[[0]]\n",
      "[[0]]\n",
      "[[0], [0]]\n",
      "[[0], [0], [0]]\n",
      "[[0], [0], [0], [0]]\n",
      "[[0]]\n",
      "[[0], [0]]\n",
      "[[0]]\n",
      "[[0], [0]]\n",
      "[[0], [0], [0]]\n",
      "[[0], [0], [0], [0]]\n",
      "[[0]]\n",
      "[[0], [0]]\n",
      "[[0], [0], [0]]\n",
      "[[0], [0], [0], [0]]\n",
      "[[0], [0], [0], [0], [0]]\n",
      "[[0]]\n",
      "[[0], [0]]\n",
      "[[0], [0], [0]]\n",
      "[[0], [0], [0], [0]]\n",
      "[[0], [0], [0], [0], [0]]\n",
      "[[0], [0], [0], [0], [0], [0]]\n",
      "[[0], [0], [0], [0], [0], [0], [0]]\n",
      "[[0], [0], [0], [0], [0], [0], [0], [0]]\n",
      "[[0], [0], [0], [0], [0], [0], [0], [0], [0]]\n",
      "[[0], [0], [0], [0], [0], [0], [0], [0], [0], [0]]\n",
      "[[0], [0], [0], [0], [0], [0], [0], [0], [0], [0], [0]]\n",
      "[[0], [0], [0], [0], [0], [0], [0], [0], [0], [0], [0], [0]]\n",
      "[[0], [0], [0], [0], [0], [0], [0], [0], [0], [0], [0], [0], [0]]\n",
      "[[0], [0], [0], [0], [0], [0], [0], [0], [0], [0], [0], [0], [0], [0]]\n",
      "[[0], [0], [0], [0], [0], [0], [0], [0], [0], [0], [0], [0], [0], [0], [0]]\n",
      "[[0]]\n",
      "[[0], [0]]\n",
      "[[0], [0], [0]]\n",
      "[[0], [0], [0], [0]]\n",
      "[[0]]\n",
      "[[0], [0]]\n",
      "[[0], [0], [0]]\n",
      "[[0]]\n",
      "[[0], [0]]\n",
      "[[0]]\n",
      "[[0], [0]]\n",
      "[[0], [0], [0]]\n",
      "[[0], [0], [0], [0]]\n",
      "[[0], [0], [0], [0], [0]]\n",
      "[[0], [0], [0], [0], [0], [0]]\n",
      "[[0], [0], [0], [0], [0], [0], [0]]\n",
      "[[0], [0], [0], [0], [0], [0], [0], [0]]\n",
      "[[0], [0], [0], [0], [0], [0], [0], [0], [0]]\n",
      "[[0], [0], [0], [0], [0], [0], [0], [0], [0], [0]]\n",
      "[[0], [0], [0], [0], [0], [0], [0], [0], [0], [0], [0]]\n",
      "[[0], [0], [0], [0], [0], [0], [0], [0], [0], [0], [0], [0]]\n",
      "[[0], [0], [0], [0], [0], [0], [0], [0], [0], [0], [0], [0], [0]]\n",
      "[[0]]\n",
      "[[0], [0]]\n",
      "[[0], [0], [0]]\n",
      "[[0], [0], [0], [0]]\n",
      "[[0], [0], [0], [0], [0]]\n",
      "[[0], [0], [0], [0], [0], [0]]\n",
      "[[0], [0], [0], [0], [0], [0], [0]]\n",
      "[[0], [0], [0], [0], [0], [0], [0], [0]]\n",
      "[[0], [0], [0], [0], [0], [0], [0], [0], [0]]\n",
      "[[0]]\n",
      "[[0]]\n",
      "[[0], [0]]\n",
      "[[0], [0], [0]]\n",
      "[[0], [0], [0], [0]]\n",
      "[[0], [0], [0], [0], [0]]\n",
      "[[0], [0], [0], [0], [0], [0]]\n",
      "[[0], [0], [0], [0], [0], [0], [0]]\n",
      "[[0], [0], [0], [0], [0], [0], [0], [0]]\n",
      "[[0]]\n",
      "[[0], [0]]\n",
      "[[0], [0], [0]]\n",
      "[[0], [0], [0], [0]]\n",
      "[[0], [0], [0], [0], [0]]\n",
      "[[0], [0], [0], [0], [0], [0]]\n",
      "[[0], [0], [0], [0], [0], [0], [0]]\n",
      "[[0], [0], [0], [0], [0], [0], [0], [0]]\n",
      "[[0], [0], [0], [0], [0], [0], [0], [0], [0]]\n",
      "[[0]]\n",
      "[[0]]\n",
      "[[0], [0]]\n",
      "[[0], [0], [0]]\n",
      "[[0], [0], [0], [0]]\n",
      "[[0]]\n",
      "[[0]]\n",
      "[[0]]\n",
      "[[0], [0]]\n",
      "[[0]]\n",
      "[[0]]\n",
      "[[0], [0]]\n",
      "[[0], [0], [0]]\n",
      "[[0], [0], [0], [0]]\n",
      "[[0], [0], [0], [0], [0]]\n",
      "[[0], [0], [0], [0], [0], [0]]\n",
      "[[0], [0], [0], [0], [0], [0], [0]]\n",
      "[[0], [0], [0], [0], [0], [0], [0], [0]]\n",
      "[[0]]\n",
      "[[0]]\n",
      "[[0], [0]]\n",
      "[[0], [0], [0]]\n",
      "[[0], [0], [0], [0]]\n",
      "[[0], [0], [0], [0], [0]]\n",
      "[[0]]\n",
      "[[0], [0]]\n",
      "[[0]]\n",
      "[[0], [0]]\n",
      "[[0], [0], [0]]\n",
      "[[0], [0], [0], [0]]\n",
      "[[0], [0], [0], [0], [0]]\n",
      "[[0]]\n",
      "[[0], [0]]\n",
      "[[0], [0], [0]]\n",
      "[[0], [0], [0], [0]]\n",
      "[[0], [0], [0], [0], [0]]\n",
      "[[0], [0], [0], [0], [0], [0]]\n",
      "[[0], [0], [0], [0], [0], [0], [0]]\n",
      "[[0], [0], [0], [0], [0], [0], [0], [0]]\n",
      "[[0], [0], [0], [0], [0], [0], [0], [0], [0]]\n",
      "[[0], [0], [0], [0], [0], [0], [0], [0], [0], [0]]\n",
      "[[0]]\n",
      "[[0], [0]]\n",
      "[[0], [0], [0]]\n",
      "[[0], [0], [0], [0]]\n",
      "[[0]]\n",
      "[[0], [0]]\n",
      "[[0], [0], [0]]\n",
      "[[0], [0], [0], [0]]\n",
      "[[0]]\n",
      "[[0]]\n",
      "[[0], [0]]\n",
      "[[0], [0], [0]]\n",
      "[[0], [0], [0], [0]]\n",
      "[[0], [0], [0], [0], [0]]\n",
      "[[0], [0], [0], [0], [0], [0]]\n",
      "[[0], [0], [0], [0], [0], [0], [0]]\n",
      "[[0], [0], [0], [0], [0], [0], [0], [0]]\n",
      "[[0]]\n",
      "[[0], [0]]\n",
      "[[0], [0], [0]]\n",
      "[[0]]\n",
      "[[0], [0]]\n",
      "[[0]]\n",
      "[[0], [0]]\n",
      "[[0], [0], [0]]\n",
      "[[0], [0], [0], [0]]\n",
      "[[0], [0], [0], [0], [0]]\n",
      "[[0], [0], [0], [0], [0], [0]]\n",
      "[[0], [0], [0], [0], [0], [0], [0]]\n",
      "[[0], [0], [0], [0], [0], [0], [0], [0]]\n",
      "[[0], [0], [0], [0], [0], [0], [0], [0], [0]]\n",
      "[[0], [0], [0], [0], [0], [0], [0], [0], [0], [0]]\n",
      "[[0], [0], [0], [0], [0], [0], [0], [0], [0], [0], [0]]\n",
      "[[0], [0], [0], [0], [0], [0], [0], [0], [0], [0], [0], [0]]\n",
      "[[0], [0], [0], [0], [0], [0], [0], [0], [0], [0], [0], [0], [0]]\n",
      "[[0], [0], [0], [0], [0], [0], [0], [0], [0], [0], [0], [0], [0], [0]]\n",
      "[[0], [0], [0], [0], [0], [0], [0], [0], [0], [0], [0], [0], [0], [0], [0]]\n",
      "[[0], [0], [0], [0], [0], [0], [0], [0], [0], [0], [0], [0], [0], [0], [0], [0]]\n",
      "[[0]]\n",
      "[[0]]\n",
      "[[0], [0]]\n",
      "[[0]]\n",
      "[[0], [0]]\n",
      "[[0], [0], [0]]\n",
      "[[0], [0], [0], [0]]\n",
      "[[0], [0], [0], [0], [0]]\n",
      "[[0], [0], [0], [0], [0], [0]]\n",
      "[[0], [0], [0], [0], [0], [0], [0]]\n",
      "[[0], [0], [0], [0], [0], [0], [0], [0]]\n",
      "[[0], [0], [0], [0], [0], [0], [0], [0], [0]]\n",
      "[[0], [0], [0], [0], [0], [0], [0], [0], [0], [0]]\n",
      "[[0], [0], [0], [0], [0], [0], [0], [0], [0], [0], [0]]\n",
      "[[0], [0], [0], [0], [0], [0], [0], [0], [0], [0], [0], [0]]\n",
      "[[0]]\n",
      "[[0], [0]]\n",
      "[[0], [0], [0]]\n",
      "[[0]]\n",
      "[[0], [0]]\n",
      "[[0], [0], [0]]\n",
      "[[0]]\n",
      "[[0], [0]]\n",
      "[[0]]\n",
      "[[0], [0]]\n",
      "[[0], [0], [0]]\n",
      "[[0], [0], [0], [0]]\n",
      "[[0], [0], [0], [0], [0]]\n",
      "[[0], [0], [0], [0], [0], [0]]\n",
      "[[0], [0], [0], [0], [0], [0], [0]]\n",
      "[[0], [0], [0], [0], [0], [0], [0], [0]]\n",
      "[[0], [0], [0], [0], [0], [0], [0], [0], [0]]\n",
      "[[0], [0], [0], [0], [0], [0], [0], [0], [0], [0]]\n",
      "[[0], [0], [0], [0], [0], [0], [0], [0], [0], [0], [0]]\n",
      "[[0]]\n",
      "[[0], [0]]\n",
      "[[0]]\n",
      "[[0], [0]]\n",
      "[[0]]\n",
      "[[0]]\n",
      "[[0], [0]]\n",
      "[[0], [0], [0]]\n",
      "[[0]]\n",
      "[[0], [0]]\n",
      "[[0], [0], [0]]\n",
      "[[0], [0], [0], [0]]\n",
      "[[0], [0], [0], [0], [0]]\n",
      "[[0], [0], [0], [0], [0], [0]]\n",
      "[[0], [0], [0], [0], [0], [0], [0]]\n",
      "[[0], [0], [0], [0], [0], [0], [0], [0]]\n",
      "[[0]]\n",
      "[[0], [0]]\n",
      "[[0], [0], [0]]\n",
      "[[0], [0], [0], [0]]\n",
      "[[0], [0], [0], [0], [0]]\n",
      "[[0], [0], [0], [0], [0], [0]]\n",
      "[[0], [0], [0], [0], [0], [0], [0]]\n",
      "[[0], [0], [0], [0], [0], [0], [0], [0]]\n",
      "[[0]]\n",
      "[[0], [0]]\n",
      "[[0], [0], [0]]\n",
      "[[0], [0], [0], [0]]\n",
      "[[0], [0], [0], [0], [0]]\n",
      "[[0], [0], [0], [0], [0], [0]]\n",
      "[[0], [0], [0], [0], [0], [0], [0]]\n",
      "[[0], [0], [0], [0], [0], [0], [0], [0]]\n",
      "[[0], [0], [0], [0], [0], [0], [0], [0], [0]]\n",
      "[[0]]\n",
      "[[0]]\n",
      "[[0], [0]]\n",
      "[[0]]\n",
      "[[0]]\n",
      "[[0], [0]]\n",
      "[[0]]\n",
      "[[0], [0]]\n",
      "[[0]]\n",
      "[[0]]\n",
      "[[0], [0]]\n",
      "[[0], [0], [0]]\n",
      "[[0], [0], [0], [0]]\n",
      "[[0], [0], [0], [0], [0]]\n",
      "[[0], [0], [0], [0], [0], [0]]\n",
      "[[0], [0], [0], [0], [0], [0], [0]]\n",
      "[[0], [0], [0], [0], [0], [0], [0], [0]]\n",
      "[[0], [0], [0], [0], [0], [0], [0], [0], [0]]\n",
      "[[0]]\n",
      "[[0]]\n",
      "[[0], [0]]\n",
      "[[0], [0], [0]]\n",
      "[[0], [0], [0], [0]]\n",
      "[[0], [0], [0], [0], [0]]\n",
      "[[0], [0], [0], [0], [0], [0]]\n",
      "[[0], [0], [0], [0], [0], [0], [0]]\n",
      "[[0]]\n",
      "[[0]]\n",
      "[[0], [0]]\n",
      "[[0], [0], [0]]\n",
      "[[0], [0], [0], [0]]\n",
      "[[0]]\n",
      "[[0], [0]]\n",
      "[[0], [0], [0]]\n",
      "[[0], [0], [0], [0]]\n",
      "[[0], [0], [0], [0], [0]]\n",
      "[[0]]\n",
      "[[0], [0]]\n",
      "[[0], [0], [0]]\n",
      "[[0], [0], [0], [0]]\n",
      "[[0], [0], [0], [0], [0]]\n",
      "[[0], [0], [0], [0], [0], [0]]\n",
      "[[0]]\n",
      "[[0], [0]]\n",
      "[[0]]\n",
      "[[0]]\n",
      "[[0]]\n",
      "[[0]]\n",
      "[[0], [0]]\n",
      "[[0]]\n",
      "[[0], [0]]\n",
      "[[0], [0], [0]]\n",
      "[[0]]\n",
      "[[0]]\n",
      "[[0], [0]]\n",
      "[[0]]\n",
      "[[0], [0]]\n",
      "[[0], [0], [0]]\n",
      "[[0], [0], [0], [0]]\n",
      "[[0], [0], [0], [0], [0]]\n",
      "[[0], [0], [0], [0], [0], [0]]\n",
      "[[0], [0], [0], [0], [0], [0], [0]]\n",
      "[[0], [0], [0], [0], [0], [0], [0], [0]]\n",
      "[[0], [0], [0], [0], [0], [0], [0], [0], [0]]\n",
      "[[0]]\n",
      "[[0], [0]]\n",
      "[[0], [0], [0]]\n",
      "[[0], [0], [0], [0]]\n",
      "[[0], [0], [0], [0], [0]]\n",
      "[[0], [0], [0], [0], [0], [0]]\n",
      "[[0], [0], [0], [0], [0], [0], [0]]\n",
      "[[0], [0], [0], [0], [0], [0], [0], [0]]\n",
      "[[0], [0], [0], [0], [0], [0], [0], [0], [0]]\n",
      "[[0]]\n",
      "[[0], [0]]\n",
      "[[0]]\n",
      "[[0]]\n",
      "[[0], [0]]\n",
      "[[0], [0], [0]]\n",
      "[[0], [0], [0], [0]]\n",
      "[[0], [0], [0], [0], [0]]\n",
      "[[0], [0], [0], [0], [0], [0]]\n",
      "[[0], [0], [0], [0], [0], [0], [0]]\n",
      "[[0], [0], [0], [0], [0], [0], [0], [0]]\n",
      "[[0], [0], [0], [0], [0], [0], [0], [0], [0]]\n",
      "[[0], [0], [0], [0], [0], [0], [0], [0], [0], [0]]\n",
      "[[0], [0], [0], [0], [0], [0], [0], [0], [0], [0], [0]]\n",
      "[[0], [0], [0], [0], [0], [0], [0], [0], [0], [0], [0], [0]]\n",
      "[[0]]\n",
      "[[0], [0]]\n",
      "[[0], [0], [0]]\n",
      "[[0], [0], [0], [0]]\n",
      "[[0], [0], [0], [0], [0]]\n",
      "[[0], [0], [0], [0], [0], [0]]\n",
      "[[0], [0], [0], [0], [0], [0], [0]]\n",
      "[[0], [0], [0], [0], [0], [0], [0], [0]]\n",
      "[[0], [0], [0], [0], [0], [0], [0], [0], [0]]\n",
      "[[0], [0], [0], [0], [0], [0], [0], [0], [0], [0]]\n",
      "[[0], [0], [0], [0], [0], [0], [0], [0], [0], [0], [0]]\n",
      "[[0], [0], [0], [0], [0], [0], [0], [0], [0], [0], [0], [0]]\n",
      "[[0], [0], [0], [0], [0], [0], [0], [0], [0], [0], [0], [0], [0]]\n",
      "[[0], [0], [0], [0], [0], [0], [0], [0], [0], [0], [0], [0], [0], [0]]\n",
      "[[0], [0], [0], [0], [0], [0], [0], [0], [0], [0], [0], [0], [0], [0], [0]]\n",
      "[[0], [0], [0], [0], [0], [0], [0], [0], [0], [0], [0], [0], [0], [0], [0], [0]]\n",
      "[[0]]\n",
      "[[0], [0]]\n",
      "[[0], [0], [0]]\n",
      "[[0], [0], [0], [0]]\n",
      "[[0], [0], [0], [0], [0]]\n",
      "[[0]]\n",
      "[[0], [0]]\n",
      "[[0], [0], [0]]\n",
      "[[0], [0], [0], [0]]\n",
      "[[0], [0], [0], [0], [0]]\n",
      "[[0], [0], [0], [0], [0], [0]]\n",
      "[[0], [0], [0], [0], [0], [0], [0]]\n",
      "[[0], [0], [0], [0], [0], [0], [0], [0]]\n",
      "[[0], [0], [0], [0], [0], [0], [0], [0], [0]]\n",
      "[[0]]\n",
      "[[0], [0]]\n",
      "[[0], [0], [0]]\n",
      "[[0], [0], [0], [0]]\n",
      "[[0], [0], [0], [0], [0]]\n",
      "[[0], [0], [0], [0], [0], [0]]\n",
      "[[0], [0], [0], [0], [0], [0], [0]]\n",
      "[[0], [0], [0], [0], [0], [0], [0], [0]]\n",
      "[[0], [0], [0], [0], [0], [0], [0], [0], [0]]\n",
      "[[0], [0], [0], [0], [0], [0], [0], [0], [0], [0]]\n",
      "[[0]]\n",
      "[[0]]\n",
      "[[0]]\n",
      "[[0], [0]]\n",
      "[[0], [0], [0]]\n",
      "[[0], [0], [0], [0]]\n",
      "[[0], [0], [0], [0], [0]]\n",
      "[[0]]\n",
      "[[0], [0]]\n",
      "[[0], [0], [0]]\n",
      "[[0], [0], [0], [0]]\n",
      "[[0], [0], [0], [0], [0]]\n",
      "[[0], [0], [0], [0], [0], [0]]\n",
      "[[0]]\n",
      "[[0], [0]]\n",
      "[[0], [0], [0]]\n",
      "[[0]]\n",
      "[[0]]\n",
      "[[0]]\n",
      "[[0]]\n",
      "[[0], [0]]\n",
      "[[0], [0], [0]]\n",
      "[[0], [0], [0], [0]]\n",
      "[[0], [0], [0], [0], [0]]\n",
      "[[0], [0], [0], [0], [0], [0]]\n",
      "[[0], [0], [0], [0], [0], [0], [0]]\n",
      "[[0], [0], [0], [0], [0], [0], [0], [0]]\n",
      "[[0], [0], [0], [0], [0], [0], [0], [0], [0]]\n",
      "[[0]]\n",
      "[[0]]\n",
      "[[0], [0]]\n",
      "[[0]]\n",
      "[[0], [0]]\n",
      "[[0], [0], [0]]\n",
      "[[0]]\n",
      "[[0], [0]]\n",
      "[[0], [0], [0]]\n",
      "[[0], [0], [0], [0]]\n",
      "[[0]]\n",
      "[[0], [0]]\n"
     ]
    }
   ],
   "source": [
    "x, y = mta2tensor(df)\n"
   ],
   "metadata": {
    "collapsed": false
   }
  }
 ],
 "metadata": {
  "kernelspec": {
   "display_name": "Python 3",
   "language": "python",
   "name": "python3"
  },
  "language_info": {
   "codemirror_mode": {
    "name": "ipython",
    "version": 2
   },
   "file_extension": ".py",
   "mimetype": "text/x-python",
   "name": "python",
   "nbconvert_exporter": "python",
   "pygments_lexer": "ipython2",
   "version": "2.7.6"
  }
 },
 "nbformat": 4,
 "nbformat_minor": 0
}
