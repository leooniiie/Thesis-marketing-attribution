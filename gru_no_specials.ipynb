{
 "cells": [
  {
   "cell_type": "code",
   "execution_count": null,
   "metadata": {
    "collapsed": true,
    "id": "Xy_9mmpVjyk2"
   },
   "outputs": [],
   "source": [
    "import pandas as pd\n",
    "import plotly.express as px\n",
    "import matplotlib.pyplot as plt\n",
    "import seaborn as sns\n",
    "import numpy as np\n",
    "import tensorflow as tf\n",
    "import random\n",
    "\n",
    "\n",
    "from numpy import random\n",
    "from sklearn.preprocessing import OrdinalEncoder\n",
    "from IPython import display\n",
    "\n",
    "\n",
    "#tf.compat.v1.disable_eager_execution()\n",
    "\n",
    "#%matplotlib inline\n",
    "random.seed(246)"
   ]
  },
  {
   "cell_type": "code",
   "execution_count": null,
   "metadata": {
    "id": "0EW-p7jNjyk4"
   },
   "outputs": [],
   "source": [
    "df_train = pd.read_csv(\"train.csv\")\n",
    "df_test = pd.read_csv(\"valid.csv\")"
   ]
  },
  {
   "cell_type": "code",
   "execution_count": null,
   "outputs": [],
   "source": [
    "max_journ_len = 16 #as specified in prep_data.jpynb"
   ],
   "metadata": {
    "collapsed": false
   }
  },
  {
   "cell_type": "markdown",
   "metadata": {
    "collapsed": false,
    "id": "TGuYORGNjylI"
   },
   "source": [
    "# Next step: transform to tensor"
   ]
  },
  {
   "cell_type": "code",
   "execution_count": null,
   "metadata": {
    "id": "GUz7hSW6jylI"
   },
   "outputs": [],
   "source": [
    "def mta2tensor(df, max_journ_len):\n",
    "    colx = df.shape[1] - 1\n",
    "    df_transaction = df['transaction']\n",
    "    data = df.drop('transaction', axis=1)\n",
    "    grous = df.groupby('journey_id')\n",
    "    x = []\n",
    "    y = []\n",
    "    cj_count = 1\n",
    "    for i in df['journey_id'].unique():\n",
    "        x1 = grous.get_group(i)\n",
    "\n",
    "        x1 = x1.drop(['journey_id'], axis=1)\n",
    "        x1 = x1.values.tolist()\n",
    "\n",
    "        y1 = []\n",
    "        y_prop = df_transaction.loc[grous.get_group(i).index]\n",
    "        y_prop = y_prop.values.tolist()\n",
    "        if y_prop[0]==1:\n",
    "            y1 = 1\n",
    "        else: y1 = 0\n",
    "\n",
    "        #for l in range(len(y_prop)):\n",
    "           #y1.append([y_prop[l]])\n",
    "\n",
    "        for j in range(max_journ_len - len(x1)):\n",
    "\n",
    "            x1.append([0] * colx)  # 52 is number of columns without journey_id an transaction\n",
    "            #y1.append([0])\n",
    "\n",
    "        x.append(x1)\n",
    "        y.append(y1)\n",
    "        cj_count = cj_count + 1\n",
    "\n",
    "    return x, y\n",
    "    #tf.convert_to_tensor(x), tf.convert_to_tensor(y)\n"
   ]
  },
  {
   "cell_type": "code",
   "execution_count": null,
   "metadata": {
    "id": "JLAs5Ot0jylI"
   },
   "outputs": [],
   "source": [
    "X_test, Y_test = mta2tensor(df_train, max_journ_len)\n",
    "X_train, Y_train = mta2tensor(df_test, max_journ_len)\n",
    "#X_valid, Y_valid = mta2tensor(df_valid, max_journ_len)"
   ]
  },
  {
   "cell_type": "code",
   "execution_count": null,
   "metadata": {
    "colab": {
     "base_uri": "https://localhost:8080/"
    },
    "id": "FPML1WiatibM",
    "outputId": "4b0cda2a-b274-49fb-ea2f-f5efab4a58ec"
   },
   "outputs": [],
   "source": [
    "batch_size = 32\n",
    "train_dataset = tf.data.Dataset.from_tensor_slices((X_train, Y_train))\n",
    "train_dataset = train_dataset.batch(batch_size)"
   ]
  },
  {
   "cell_type": "code",
   "execution_count": null,
   "outputs": [],
   "source": [
    "test_dataset = tf.data.Dataset.from_tensor_slices((X_test, Y_test))\n",
    "test_dataset = test_dataset.batch(batch_size)"
   ],
   "metadata": {
    "collapsed": false
   }
  },
  {
   "cell_type": "code",
   "execution_count": null,
   "outputs": [],
   "source": [
    "time_steps = max_journ_len\n",
    "input_dim = df_train.shape[1] - 1\n",
    "num_classes = 2"
   ],
   "metadata": {
    "collapsed": false
   }
  },
  {
   "cell_type": "markdown",
   "metadata": {
    "id": "ZO08OBAUtYj8"
   },
   "source": []
  },
  {
   "cell_type": "code",
   "execution_count": null,
   "metadata": {
    "id": "4dKImuebnzSQ"
   },
   "outputs": [],
   "source": [
    "model = tf.keras.Sequential([\n",
    "    tf.keras.layers.GRU(64, return_sequences=True, input_shape=(time_steps, input_dim)),\n",
    "    tf.keras.layers.GRU(32),\n",
    "    tf.keras.layers.Dense(num_classes, activation='softmax')\n",
    "])"
   ]
  },
  {
   "cell_type": "code",
   "execution_count": null,
   "metadata": {
    "id": "ztkJgGR7tZ3K"
   },
   "outputs": [],
   "source": [
    "loss_function = tf.keras.losses.SparseCategoricalCrossentropy()\n",
    "optimizer = tf.keras.optimizers.Adam(learning_rate=0.001)"
   ]
  },
  {
   "cell_type": "code",
   "execution_count": null,
   "outputs": [],
   "source": [
    "class LossHistory(tf.keras.callbacks.Callback):\n",
    "    def __init__(self):\n",
    "        self.train_losses = []\n",
    "        self.test_losses = []\n",
    "\n",
    "    def on_epoch_end(self, epoch, logs=None):\n",
    "        self.train_losses.append(logs.get('loss'))\n",
    "        self.test_losses.append(logs.get('val_loss'))"
   ],
   "metadata": {
    "collapsed": false
   }
  },
  {
   "cell_type": "code",
   "execution_count": null,
   "metadata": {
    "id": "RYTZLOkII5R9"
   },
   "outputs": [],
   "source": [
    "model.compile(optimizer='adam', loss='sparse_categorical_crossentropy')\n",
    "\n",
    "# Create instances of the custom callback\n",
    "loss_history = LossHistory()\n",
    "\n",
    "# Train the model with the custom callback\n",
    "num_epochs = 100\n",
    "model.fit(test_dataset, epochs=num_epochs, validation_data=train_dataset, callbacks=[loss_history])"
   ]
  },
  {
   "cell_type": "code",
   "source": [
    "plt.plot(loss_history.train_losses, '-b', label='Train loss')\n",
    "plt.plot(loss_history.test_losses, '-r', label='Test loss')\n",
    "plt.legend(loc=0)\n",
    "plt.title('Loss')\n",
    "plt.xlabel('Iteration')\n",
    "plt.ylabel('Loss')\n",
    "plt.show()"
   ],
   "metadata": {
    "colab": {
     "base_uri": "https://localhost:8080/",
     "height": 472
    },
    "id": "sJ3Qmtt4hgfh",
    "outputId": "e2ed10cd-10c2-4b69-ada6-341ec88689b1"
   },
   "execution_count": null,
   "outputs": []
  }
 ],
 "metadata": {
  "colab": {
   "provenance": []
  },
  "kernelspec": {
   "display_name": "Python 3",
   "language": "python",
   "name": "python3"
  },
  "language_info": {
   "codemirror_mode": {
    "name": "ipython",
    "version": 2
   },
   "file_extension": ".py",
   "mimetype": "text/x-python",
   "name": "python",
   "nbconvert_exporter": "python",
   "pygments_lexer": "ipython2",
   "version": "2.7.6"
  }
 },
 "nbformat": 4,
 "nbformat_minor": 0
}
