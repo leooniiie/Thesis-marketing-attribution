{
 "cells": [
  {
   "cell_type": "markdown",
   "source": [
    "# This notebook is here for preprocessing the data"
   ],
   "metadata": {
    "collapsed": false
   }
  },
  {
   "cell_type": "code",
   "execution_count": 49,
   "outputs": [],
   "source": [
    "import pandas as pd\n",
    "import numpy as np\n",
    "\n",
    "from numpy import random\n",
    "from sklearn.preprocessing import OrdinalEncoder\n",
    "\n",
    "random.seed(246)"
   ],
   "metadata": {
    "collapsed": false
   }
  },
  {
   "cell_type": "code",
   "execution_count": 50,
   "outputs": [],
   "source": [
    "df_train = pd.read_csv(\"smaller_train.csv\")\n",
    "df_valid = pd.read_csv(\"smaller_valid.csv\")\n",
    "df_test = pd.read_csv(\"smaller_test.csv\")\n",
    "\n",
    "df_train['s'] = 1\n",
    "df_valid['s'] = 2\n",
    "df_test['s'] = 3\n",
    "\n",
    "df = pd.concat([df_train, df_valid, df_test], ignore_index=True)"
   ],
   "metadata": {
    "collapsed": false
   }
  },
  {
   "cell_type": "code",
   "execution_count": 51,
   "metadata": {
    "colab": {
     "base_uri": "https://localhost:8080/",
     "height": 423
    },
    "id": "SH_q4baLjyk4",
    "outputId": "ea114fd5-0a13-4d50-f28b-eae8b6aed6a4"
   },
   "outputs": [
    {
     "data": {
      "text/plain": "       transaction   platform   country_name  journey_id  channel_id  \\\n525              1    desktop    South Korea      130944           2   \n526              1  mobileWeb      Indonesia      130978           3   \n527              1  mobileWeb  United States      130990           3   \n528              1  mobileWeb        Germany      131006           6   \n529              1  mobileWeb         France      131046           6   \n...            ...        ...            ...         ...         ...   \n22287            1  mobileWeb         Greece      134690           8   \n22288            1  mobileWeb        Germany      137848           1   \n22289            1    desktop        Germany      133728           3   \n22290            1  mobileWeb      Australia      132798           1   \n22291            1    desktop    South Korea      131869           3   \n\n         timestamp  timestamp_conversion  s  \n525    4236.409495           4239.122778  1  \n526    4302.195794           6452.081111  1  \n527    2941.232592           2947.790278  1  \n528    2673.734090           2891.494722  1  \n529    4990.108078           4990.150000  1  \n...            ...                   ... ..  \n22287  4176.732051           4561.416944  3  \n22288  5975.486344           6064.763889  3  \n22289  4500.611033           5562.872778  3  \n22290  6170.508791           6174.803611  3  \n22291  5283.353383           5310.873611  3  \n\n[18884 rows x 8 columns]",
      "text/html": "<div>\n<style scoped>\n    .dataframe tbody tr th:only-of-type {\n        vertical-align: middle;\n    }\n\n    .dataframe tbody tr th {\n        vertical-align: top;\n    }\n\n    .dataframe thead th {\n        text-align: right;\n    }\n</style>\n<table border=\"1\" class=\"dataframe\">\n  <thead>\n    <tr style=\"text-align: right;\">\n      <th></th>\n      <th>transaction</th>\n      <th>platform</th>\n      <th>country_name</th>\n      <th>journey_id</th>\n      <th>channel_id</th>\n      <th>timestamp</th>\n      <th>timestamp_conversion</th>\n      <th>s</th>\n    </tr>\n  </thead>\n  <tbody>\n    <tr>\n      <th>525</th>\n      <td>1</td>\n      <td>desktop</td>\n      <td>South Korea</td>\n      <td>130944</td>\n      <td>2</td>\n      <td>4236.409495</td>\n      <td>4239.122778</td>\n      <td>1</td>\n    </tr>\n    <tr>\n      <th>526</th>\n      <td>1</td>\n      <td>mobileWeb</td>\n      <td>Indonesia</td>\n      <td>130978</td>\n      <td>3</td>\n      <td>4302.195794</td>\n      <td>6452.081111</td>\n      <td>1</td>\n    </tr>\n    <tr>\n      <th>527</th>\n      <td>1</td>\n      <td>mobileWeb</td>\n      <td>United States</td>\n      <td>130990</td>\n      <td>3</td>\n      <td>2941.232592</td>\n      <td>2947.790278</td>\n      <td>1</td>\n    </tr>\n    <tr>\n      <th>528</th>\n      <td>1</td>\n      <td>mobileWeb</td>\n      <td>Germany</td>\n      <td>131006</td>\n      <td>6</td>\n      <td>2673.734090</td>\n      <td>2891.494722</td>\n      <td>1</td>\n    </tr>\n    <tr>\n      <th>529</th>\n      <td>1</td>\n      <td>mobileWeb</td>\n      <td>France</td>\n      <td>131046</td>\n      <td>6</td>\n      <td>4990.108078</td>\n      <td>4990.150000</td>\n      <td>1</td>\n    </tr>\n    <tr>\n      <th>...</th>\n      <td>...</td>\n      <td>...</td>\n      <td>...</td>\n      <td>...</td>\n      <td>...</td>\n      <td>...</td>\n      <td>...</td>\n      <td>...</td>\n    </tr>\n    <tr>\n      <th>22287</th>\n      <td>1</td>\n      <td>mobileWeb</td>\n      <td>Greece</td>\n      <td>134690</td>\n      <td>8</td>\n      <td>4176.732051</td>\n      <td>4561.416944</td>\n      <td>3</td>\n    </tr>\n    <tr>\n      <th>22288</th>\n      <td>1</td>\n      <td>mobileWeb</td>\n      <td>Germany</td>\n      <td>137848</td>\n      <td>1</td>\n      <td>5975.486344</td>\n      <td>6064.763889</td>\n      <td>3</td>\n    </tr>\n    <tr>\n      <th>22289</th>\n      <td>1</td>\n      <td>desktop</td>\n      <td>Germany</td>\n      <td>133728</td>\n      <td>3</td>\n      <td>4500.611033</td>\n      <td>5562.872778</td>\n      <td>3</td>\n    </tr>\n    <tr>\n      <th>22290</th>\n      <td>1</td>\n      <td>mobileWeb</td>\n      <td>Australia</td>\n      <td>132798</td>\n      <td>1</td>\n      <td>6170.508791</td>\n      <td>6174.803611</td>\n      <td>3</td>\n    </tr>\n    <tr>\n      <th>22291</th>\n      <td>1</td>\n      <td>desktop</td>\n      <td>South Korea</td>\n      <td>131869</td>\n      <td>3</td>\n      <td>5283.353383</td>\n      <td>5310.873611</td>\n      <td>3</td>\n    </tr>\n  </tbody>\n</table>\n<p>18884 rows × 8 columns</p>\n</div>"
     },
     "execution_count": 51,
     "metadata": {},
     "output_type": "execute_result"
    }
   ],
   "source": [
    "df[df['transaction']==1]  # as one can see here"
   ]
  },
  {
   "cell_type": "markdown",
   "metadata": {
    "collapsed": false,
    "id": "yVmrdgFTjyk5"
   },
   "source": [
    "## Transform the transaction column s.t. only  last tp before conversioin has transaction == 1"
   ]
  },
  {
   "cell_type": "code",
   "execution_count": 52,
   "metadata": {
    "id": "xmTGx8v5jyk8"
   },
   "outputs": [],
   "source": [
    "df['time_diff'] = df['timestamp_conversion'] - df['timestamp'] #create new var for timedifference"
   ]
  },
  {
   "cell_type": "code",
   "execution_count": 53,
   "metadata": {
    "colab": {
     "base_uri": "https://localhost:8080/",
     "height": 80
    },
    "id": "SW_FsNnXjyk9",
    "outputId": "8c7e3e9c-81c3-45aa-8efe-e7d60a9623ee"
   },
   "outputs": [
    {
     "data": {
      "text/plain": "       transaction platform country_name  journey_id  channel_id    timestamp  \\\n10138            1  android       Poland      137811          11  4029.156188   \n\n       timestamp_conversion  s  time_diff  \n10138           4029.151944  1  -0.004243  ",
      "text/html": "<div>\n<style scoped>\n    .dataframe tbody tr th:only-of-type {\n        vertical-align: middle;\n    }\n\n    .dataframe tbody tr th {\n        vertical-align: top;\n    }\n\n    .dataframe thead th {\n        text-align: right;\n    }\n</style>\n<table border=\"1\" class=\"dataframe\">\n  <thead>\n    <tr style=\"text-align: right;\">\n      <th></th>\n      <th>transaction</th>\n      <th>platform</th>\n      <th>country_name</th>\n      <th>journey_id</th>\n      <th>channel_id</th>\n      <th>timestamp</th>\n      <th>timestamp_conversion</th>\n      <th>s</th>\n      <th>time_diff</th>\n    </tr>\n  </thead>\n  <tbody>\n    <tr>\n      <th>10138</th>\n      <td>1</td>\n      <td>android</td>\n      <td>Poland</td>\n      <td>137811</td>\n      <td>11</td>\n      <td>4029.156188</td>\n      <td>4029.151944</td>\n      <td>1</td>\n      <td>-0.004243</td>\n    </tr>\n  </tbody>\n</table>\n</div>"
     },
     "execution_count": 53,
     "metadata": {},
     "output_type": "execute_result"
    }
   ],
   "source": [
    "df[df['time_diff'] < 0] #All observations where there's a touchpoint after conversion... 34 rows will be ignored"
   ]
  },
  {
   "cell_type": "code",
   "execution_count": 54,
   "metadata": {
    "id": "JAD6iRLtjyk-"
   },
   "outputs": [],
   "source": [
    "df.drop(df[df.time_diff < 0].index, inplace = True) #remove these time_diff < 0 i.e. tp after transaction"
   ]
  },
  {
   "cell_type": "code",
   "execution_count": 55,
   "metadata": {
    "id": "9aDc0N-Ijyk_"
   },
   "outputs": [],
   "source": [
    "df = df.sort_values('timestamp')\n",
    "df = df.sort_values('journey_id')"
   ]
  },
  {
   "cell_type": "code",
   "execution_count": 56,
   "metadata": {
    "id": "MJU0kUnujylA"
   },
   "outputs": [],
   "source": [
    "# This transform df so that only last touchpoint before conversion gets transaction = 1. Because this leaves to few\n",
    "# observations with transaction == 1 we don't consider it for now\n",
    "\n",
    "#groups = df.groupby('journey_id').time_diff\n",
    "#min_val = groups.transform(min) #search minimal time_diff in each group <=> closest tp to conversion\n",
    "\n",
    "#cond1 = df.time_diff==min_val #define condition when transaction should be 1\n",
    "\n",
    "#df['transaction'] = np.select([cond1], [1], default = 0) #transform transaction\n"
   ]
  },
  {
   "cell_type": "markdown",
   "metadata": {
    "collapsed": false,
    "id": "SZ0U9mwCjylC"
   },
   "source": [
    "## Long Journeys"
   ]
  },
  {
   "cell_type": "code",
   "execution_count": 57,
   "metadata": {
    "colab": {
     "base_uri": "https://localhost:8080/"
    },
    "id": "KqRp9j1ajylC",
    "outputId": "8dcf7934-e526-414e-e754-4a6c5eb422c9"
   },
   "outputs": [
    {
     "name": "stdout",
     "output_type": "stream",
     "text": [
      "count    2035.000000\n",
      "mean       10.953808\n",
      "std        18.527553\n",
      "min         1.000000\n",
      "25%         2.000000\n",
      "50%         4.000000\n",
      "75%        11.000000\n",
      "max       100.000000\n",
      "Name: s, dtype: float64\n",
      "The  99.0 % quantile is  98.0\n",
      "The  99.99 % quantile is  100.0\n"
     ]
    }
   ],
   "source": [
    "journ_len = df.groupby(\"journey_id\")[\"s\"].count()\n",
    "print(journ_len.describe())\n",
    "p1 = 0.99\n",
    "p2 = 0.9999\n",
    "print('The ', p1*100, '% quantile is ', np.quantile(journ_len, p1))\n",
    "print('The ', p2*100, '% quantile is ', np.quantile(journ_len, p2))"
   ]
  },
  {
   "cell_type": "code",
   "execution_count": 58,
   "metadata": {
    "id": "PyHHb03ajylF"
   },
   "outputs": [],
   "source": [
    "max_journ_len = 16\n",
    "df = df.groupby('journey_id').filter(lambda x: len(x) <= max_journ_len)"
   ]
  },
  {
   "cell_type": "markdown",
   "metadata": {
    "collapsed": false,
    "id": "1kp-arNbjylG"
   },
   "source": [
    "## How to handle object variables"
   ]
  },
  {
   "cell_type": "markdown",
   "metadata": {
    "collapsed": false,
    "id": "XvXn5gokjylG"
   },
   "source": [
    "###  Dummy variables for country, platform and channel, better but also huge data"
   ]
  },
  {
   "cell_type": "code",
   "execution_count": 59,
   "metadata": {
    "id": "ws6y0_KUjylH"
   },
   "outputs": [],
   "source": [
    "df = pd.get_dummies(df, columns = ['channel_id'], prefix = 'channel', prefix_sep = '_', dtype = float)\n",
    "df = pd.get_dummies(df, columns = ['country_name'], prefix = 'country', prefix_sep = '_', dtype = float)\n",
    "df = pd.get_dummies(df, columns = ['platform'], prefix = 'platform', prefix_sep = '_', dtype = float)"
   ]
  },
  {
   "cell_type": "markdown",
   "metadata": {
    "collapsed": false,
    "id": "vPKlHOLOjylH"
   },
   "source": [
    "### Ordinal Encoder, not really accurate, but doesn't blow up df"
   ]
  },
  {
   "cell_type": "code",
   "execution_count": 60,
   "metadata": {
    "id": "qvsB3VvhjylI"
   },
   "outputs": [],
   "source": [
    "#ordinal_encoder = OrdinalEncoder()\n",
    "#for column in df.columns:\n",
    "#    if df[column].dtypes == 'object':\n",
    "#        df[column] = ordinal_encoder.fit_transform(df[[column]])"
   ]
  },
  {
   "cell_type": "markdown",
   "metadata": {
    "id": "7drfskiVw77z"
   },
   "source": []
  },
  {
   "cell_type": "markdown",
   "metadata": {
    "id": "y8VxdvGcw8CN"
   },
   "source": [
    "## Split train / test"
   ]
  },
  {
   "cell_type": "code",
   "execution_count": 61,
   "outputs": [],
   "source": [
    "df_train = df[df['s'] == 1]\n",
    "df_valid = df[df['s'] == 2]\n",
    "df_test = df[df['s'] == 3]"
   ],
   "metadata": {
    "collapsed": false
   }
  },
  {
   "cell_type": "markdown",
   "metadata": {
    "collapsed": false,
    "id": "TPBBcKCojylF"
   },
   "source": [
    "## Remove irrelevant columns"
   ]
  },
  {
   "cell_type": "code",
   "execution_count": 62,
   "outputs": [],
   "source": [
    "df_train = df_train.drop(['s', 'timestamp_conversion', 'time_diff'], axis = 1) #cant be used for prediction\n",
    "df_test = df_test.drop(['s', 'timestamp_conversion', 'time_diff'], axis = 1) #cant be used for prediction\n",
    "df_valid = df_valid.drop(['s', 'timestamp_conversion', 'time_diff'], axis = 1) #cant be used for prediction"
   ],
   "metadata": {
    "collapsed": false
   }
  },
  {
   "cell_type": "markdown",
   "source": [
    "Put timestamp at the last position in the data set"
   ],
   "metadata": {
    "collapsed": false
   }
  },
  {
   "cell_type": "code",
   "execution_count": 63,
   "outputs": [],
   "source": [
    "df_train.insert(len(df_train.columns)-1, 'timestamp', df_train.pop('timestamp'))\n",
    "df_test.insert(len(df_test.columns)-1, 'timestamp', df_test.pop('timestamp'))\n",
    "df_valid.insert(len(df_valid.columns)-1, 'timestamp', df_valid.pop('timestamp'))\n"
   ],
   "metadata": {
    "collapsed": false
   }
  },
  {
   "cell_type": "markdown",
   "metadata": {
    "collapsed": false,
    "id": "TGuYORGNjylI"
   },
   "source": [
    "## Store as CSV"
   ]
  },
  {
   "cell_type": "code",
   "execution_count": 64,
   "outputs": [
    {
     "name": "stdout",
     "output_type": "stream",
     "text": [
      "training data is preprocessed and stored\n",
      "valid data is preprocessed and stored\n",
      "test data is preprocessed and stored\n"
     ]
    }
   ],
   "source": [
    "#df_train.to_csv('train.csv')\n",
    "#print(\"training data is preprocessed and stored\")\n",
    "#df_valid.to_csv('valid.csv')\n",
    "#print(\"valid data is preprocessed and stored\")\n",
    "#df_test.to_csv('test.csv')\n",
    "#print(\"test data is preprocessed and stored\")"
   ],
   "metadata": {
    "collapsed": false
   }
  },
  {
   "cell_type": "code",
   "execution_count": 64,
   "outputs": [],
   "source": [],
   "metadata": {
    "collapsed": false
   }
  }
 ],
 "metadata": {
  "colab": {
   "provenance": []
  },
  "kernelspec": {
   "display_name": "Python 3",
   "language": "python",
   "name": "python3"
  },
  "language_info": {
   "codemirror_mode": {
    "name": "ipython",
    "version": 2
   },
   "file_extension": ".py",
   "mimetype": "text/x-python",
   "name": "python",
   "nbconvert_exporter": "python",
   "pygments_lexer": "ipython2",
   "version": "2.7.6"
  }
 },
 "nbformat": 4,
 "nbformat_minor": 0
}
