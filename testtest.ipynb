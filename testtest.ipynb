{
 "cells": [
  {
   "cell_type": "code",
   "execution_count": 3,
   "outputs": [],
   "source": [
    "import tensorflow as tf\n",
    "import numpy as np\n"
   ],
   "metadata": {
    "collapsed": false
   }
  },
  {
   "cell_type": "code",
   "execution_count": 4,
   "outputs": [
    {
     "ename": "ValueError",
     "evalue": "Expected values [array([[0.90564912, 1.14796305, 0.66792084],\n       [1.69316247, 1.39075144, 0.4559037 ],\n       [1.30544081, 0.8325844 , 1.44031887]])] to be a dense tensor with shape [1], but got shape [1, 3, 3].",
     "output_type": "error",
     "traceback": [
      "\u001B[1;31m---------------------------------------------------------------------------\u001B[0m",
      "\u001B[1;31mValueError\u001B[0m                                Traceback (most recent call last)",
      "Cell \u001B[1;32mIn[4], line 5\u001B[0m\n\u001B[0;32m      2\u001B[0m cj3 \u001B[38;5;241m=\u001B[39m \u001B[38;5;241m2\u001B[39m\u001B[38;5;241m*\u001B[39mnp\u001B[38;5;241m.\u001B[39mrandom\u001B[38;5;241m.\u001B[39mrand(\u001B[38;5;241m3\u001B[39m,\u001B[38;5;241m3\u001B[39m)\n\u001B[0;32m      4\u001B[0m tensor \u001B[38;5;241m=\u001B[39m tf\u001B[38;5;241m.\u001B[39mragged\u001B[38;5;241m.\u001B[39mconstant([cj1])\n\u001B[1;32m----> 5\u001B[0m tensor \u001B[38;5;241m=\u001B[39m \u001B[43mtf\u001B[49m\u001B[38;5;241;43m.\u001B[39;49m\u001B[43mconcat\u001B[49m\u001B[43m(\u001B[49m\u001B[43m[\u001B[49m\u001B[43mtensor\u001B[49m\u001B[43m,\u001B[49m\u001B[43m[\u001B[49m\u001B[43mcj3\u001B[49m\u001B[43m]\u001B[49m\u001B[43m]\u001B[49m\u001B[43m,\u001B[49m\u001B[43m \u001B[49m\u001B[43maxis\u001B[49m\u001B[38;5;241;43m=\u001B[39;49m\u001B[38;5;241;43m0\u001B[39;49m\u001B[43m)\u001B[49m\n\u001B[0;32m      6\u001B[0m \u001B[38;5;28mprint\u001B[39m(tensor)\n",
      "File \u001B[1;32m~\\anaconda3\\envs\\gru\\lib\\site-packages\\tensorflow\\python\\util\\traceback_utils.py:153\u001B[0m, in \u001B[0;36mfilter_traceback.<locals>.error_handler\u001B[1;34m(*args, **kwargs)\u001B[0m\n\u001B[0;32m    151\u001B[0m \u001B[38;5;28;01mexcept\u001B[39;00m \u001B[38;5;167;01mException\u001B[39;00m \u001B[38;5;28;01mas\u001B[39;00m e:\n\u001B[0;32m    152\u001B[0m   filtered_tb \u001B[38;5;241m=\u001B[39m _process_traceback_frames(e\u001B[38;5;241m.\u001B[39m__traceback__)\n\u001B[1;32m--> 153\u001B[0m   \u001B[38;5;28;01mraise\u001B[39;00m e\u001B[38;5;241m.\u001B[39mwith_traceback(filtered_tb) \u001B[38;5;28;01mfrom\u001B[39;00m \u001B[38;5;28;01mNone\u001B[39;00m\n\u001B[0;32m    154\u001B[0m \u001B[38;5;28;01mfinally\u001B[39;00m:\n\u001B[0;32m    155\u001B[0m   \u001B[38;5;28;01mdel\u001B[39;00m filtered_tb\n",
      "File \u001B[1;32m~\\anaconda3\\envs\\gru\\lib\\site-packages\\tensorflow\\python\\framework\\tensor_util.py:460\u001B[0m, in \u001B[0;36mmake_tensor_proto\u001B[1;34m(values, dtype, shape, verify_shape, allow_broadcast)\u001B[0m\n\u001B[0;32m    456\u001B[0m   \u001B[38;5;66;03m# check to them.\u001B[39;00m\n\u001B[0;32m    457\u001B[0m   \u001B[38;5;66;03m# We need to pass in quantized values as tuples, so don't apply the shape\u001B[39;00m\n\u001B[0;32m    458\u001B[0m   \u001B[38;5;28;01mif\u001B[39;00m (\u001B[38;5;28mlist\u001B[39m(nparray\u001B[38;5;241m.\u001B[39mshape) \u001B[38;5;241m!=\u001B[39m _GetDenseDimensions(values) \u001B[38;5;129;01mand\u001B[39;00m\n\u001B[0;32m    459\u001B[0m       \u001B[38;5;129;01mnot\u001B[39;00m is_quantized):\n\u001B[1;32m--> 460\u001B[0m     \u001B[38;5;28;01mraise\u001B[39;00m \u001B[38;5;167;01mValueError\u001B[39;00m(\u001B[38;5;124mf\u001B[39m\u001B[38;5;124m\"\u001B[39m\u001B[38;5;124mExpected values \u001B[39m\u001B[38;5;132;01m{\u001B[39;00mvalues\u001B[38;5;132;01m}\u001B[39;00m\u001B[38;5;124m to be a dense tensor with \u001B[39m\u001B[38;5;124m\"\u001B[39m\n\u001B[0;32m    461\u001B[0m                      \u001B[38;5;124mf\u001B[39m\u001B[38;5;124m\"\u001B[39m\u001B[38;5;124mshape \u001B[39m\u001B[38;5;132;01m{\u001B[39;00m_GetDenseDimensions(values)\u001B[38;5;132;01m}\u001B[39;00m\u001B[38;5;124m, but got shape \u001B[39m\u001B[38;5;124m\"\u001B[39m\n\u001B[0;32m    462\u001B[0m                      \u001B[38;5;124mf\u001B[39m\u001B[38;5;124m\"\u001B[39m\u001B[38;5;132;01m{\u001B[39;00m\u001B[38;5;28mlist\u001B[39m(nparray\u001B[38;5;241m.\u001B[39mshape)\u001B[38;5;132;01m}\u001B[39;00m\u001B[38;5;124m.\u001B[39m\u001B[38;5;124m\"\u001B[39m)\n\u001B[0;32m    464\u001B[0m \u001B[38;5;66;03m# python/numpy default float type is float64. We prefer float32 instead.\u001B[39;00m\n\u001B[0;32m    465\u001B[0m \u001B[38;5;28;01mif\u001B[39;00m (nparray\u001B[38;5;241m.\u001B[39mdtype \u001B[38;5;241m==\u001B[39m np\u001B[38;5;241m.\u001B[39mfloat64) \u001B[38;5;129;01mand\u001B[39;00m dtype \u001B[38;5;129;01mis\u001B[39;00m \u001B[38;5;28;01mNone\u001B[39;00m:\n",
      "\u001B[1;31mValueError\u001B[0m: Expected values [array([[0.90564912, 1.14796305, 0.66792084],\n       [1.69316247, 1.39075144, 0.4559037 ],\n       [1.30544081, 0.8325844 , 1.44031887]])] to be a dense tensor with shape [1], but got shape [1, 3, 3]."
     ]
    }
   ],
   "source": [
    "cj1 = np.random.rand(2,3)\n",
    "cj3 = 2*np.random.rand(3,3)\n",
    "\n",
    "tensor = tf.ragged.constant([cj1])\n",
    "tensor = tf.concat([tensor,[cj3]], axis=0)\n",
    "print(tensor)"
   ],
   "metadata": {
    "collapsed": false
   }
  }
 ],
 "metadata": {
  "kernelspec": {
   "display_name": "Python 3",
   "language": "python",
   "name": "python3"
  },
  "language_info": {
   "codemirror_mode": {
    "name": "ipython",
    "version": 2
   },
   "file_extension": ".py",
   "mimetype": "text/x-python",
   "name": "python",
   "nbconvert_exporter": "python",
   "pygments_lexer": "ipython2",
   "version": "2.7.6"
  }
 },
 "nbformat": 4,
 "nbformat_minor": 0
}
