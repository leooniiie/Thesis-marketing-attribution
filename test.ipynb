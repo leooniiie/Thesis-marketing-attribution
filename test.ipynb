{
 "cells": [
  {
   "cell_type": "code",
   "execution_count": 1,
   "metadata": {
    "collapsed": true
   },
   "outputs": [],
   "source": [
    "import tensorflow as tf\n"
   ]
  },
  {
   "cell_type": "code",
   "execution_count": 2,
   "outputs": [
    {
     "data": {
      "text/plain": "<tf.Tensor: shape=(3,), dtype=bool, numpy=array([False,  True, False])>"
     },
     "execution_count": 2,
     "metadata": {},
     "output_type": "execute_result"
    }
   ],
   "source": [
    "x = tf.constant([5, 4, 6])\n",
    "y = tf.constant([5])\n",
    "tf.math.less(x, y)\n"
   ],
   "metadata": {
    "collapsed": false
   }
  },
  {
   "cell_type": "code",
   "execution_count": 3,
   "outputs": [
    {
     "data": {
      "text/plain": "<tf.Tensor: shape=(3,), dtype=float32, numpy=array([0., 0., 1.], dtype=float32)>"
     },
     "execution_count": 3,
     "metadata": {},
     "output_type": "execute_result"
    }
   ],
   "source": [
    "tf.cast(tf.math.less(y, x), dtype='float32')"
   ],
   "metadata": {
    "collapsed": false
   }
  },
  {
   "cell_type": "code",
   "execution_count": 4,
   "outputs": [],
   "source": [
    "phi = tf.constant([[[0, 12],[4, 6]],[[0, 12],[4, 6]]], dtype='float32')\n",
    "ron = tf.constant([10], dtype='float32')\n",
    "alpha = tf.constant([0.6], dtype='float32')"
   ],
   "metadata": {
    "collapsed": false
   }
  },
  {
   "cell_type": "code",
   "execution_count": 5,
   "outputs": [],
   "source": [
    "cond_1 = tf.cast(tf.less_equal(phi, 0.5 * ron), dtype='float32')\n",
    "cond_2 = tf.cast(tf.logical_and(tf.less(0.5 * ron, phi), tf.less(phi, ron)), dtype='float32')\n",
    "cond_3 = tf.cast(tf.greater_equal(phi, ron), dtype='float32')\n",
    "\n",
    "term_1 = tf.math.multiply(cond_1, 2.0 * phi / ron)\n",
    "term_2 = tf.math.multiply(cond_2, 2.0 - 2.0 * phi / ron)\n",
    "term_3 = tf.math.multiply(cond_3, alpha * phi)"
   ],
   "metadata": {
    "collapsed": false
   }
  },
  {
   "cell_type": "code",
   "execution_count": 6,
   "outputs": [
    {
     "data": {
      "text/plain": "<tf.Tensor: shape=(2, 2, 2), dtype=float32, numpy=\narray([[[0., 1.],\n        [0., 0.]],\n\n       [[0., 1.],\n        [0., 0.]]], dtype=float32)>"
     },
     "execution_count": 6,
     "metadata": {},
     "output_type": "execute_result"
    }
   ],
   "source": [
    "cond_3 #+ cond_2 + cond_3"
   ],
   "metadata": {
    "collapsed": false
   }
  },
  {
   "cell_type": "code",
   "execution_count": 7,
   "outputs": [
    {
     "data": {
      "text/plain": "<tf.Tensor: shape=(2, 2, 2), dtype=float32, numpy=\narray([[[0.        , 7.2000003 ],\n        [0.8       , 0.79999995]],\n\n       [[0.        , 7.2000003 ],\n        [0.8       , 0.79999995]]], dtype=float32)>"
     },
     "execution_count": 7,
     "metadata": {},
     "output_type": "execute_result"
    }
   ],
   "source": [
    "term_1 + term_2 + term_3"
   ],
   "metadata": {
    "collapsed": false
   }
  },
  {
   "cell_type": "code",
   "execution_count": 17,
   "outputs": [],
   "source": [
    "time = tf.constant([1,2,3], dtype='float32')\n",
    "s = tf.constant([0], dtype='float32')\n",
    "tau = tf.constant([[8],[7],[6],[4]], dtype='float32')\n",
    "tau = tf.transpose(tau)"
   ],
   "metadata": {
    "collapsed": false
   }
  },
  {
   "cell_type": "code",
   "execution_count": 18,
   "outputs": [],
   "source": [
    "def phi_fast(time, s, tau):\n",
    "    x = tf.math.subtract(time, s)\n",
    "    # x = tf.math.multiply(x, tau)\n",
    "    x = tf.math.floormod(x, tau)\n",
    "    x = tf.math.divide(x, tau)\n",
    "    return x"
   ],
   "metadata": {
    "collapsed": false
   }
  },
  {
   "cell_type": "code",
   "execution_count": 19,
   "outputs": [
    {
     "ename": "InvalidArgumentError",
     "evalue": "{{function_node __wrapped__FloorMod_device_/job:localhost/replica:0/task:0/device:CPU:0}} Incompatible shapes: [3] vs. [1,4] [Op:FloorMod]",
     "output_type": "error",
     "traceback": [
      "\u001B[1;31m---------------------------------------------------------------------------\u001B[0m",
      "\u001B[1;31mInvalidArgumentError\u001B[0m                      Traceback (most recent call last)",
      "Cell \u001B[1;32mIn[19], line 1\u001B[0m\n\u001B[1;32m----> 1\u001B[0m \u001B[43mphi_fast\u001B[49m\u001B[43m(\u001B[49m\u001B[43mtime\u001B[49m\u001B[43m,\u001B[49m\u001B[43ms\u001B[49m\u001B[43m,\u001B[49m\u001B[43mtau\u001B[49m\u001B[43m)\u001B[49m\n",
      "Cell \u001B[1;32mIn[18], line 4\u001B[0m, in \u001B[0;36mphi_fast\u001B[1;34m(time, s, tau)\u001B[0m\n\u001B[0;32m      2\u001B[0m x \u001B[38;5;241m=\u001B[39m tf\u001B[38;5;241m.\u001B[39mmath\u001B[38;5;241m.\u001B[39msubtract(time, s)\n\u001B[0;32m      3\u001B[0m \u001B[38;5;66;03m# x = tf.math.multiply(x, tau)\u001B[39;00m\n\u001B[1;32m----> 4\u001B[0m x \u001B[38;5;241m=\u001B[39m \u001B[43mtf\u001B[49m\u001B[38;5;241;43m.\u001B[39;49m\u001B[43mmath\u001B[49m\u001B[38;5;241;43m.\u001B[39;49m\u001B[43mfloormod\u001B[49m\u001B[43m(\u001B[49m\u001B[43mx\u001B[49m\u001B[43m,\u001B[49m\u001B[43m \u001B[49m\u001B[43mtau\u001B[49m\u001B[43m)\u001B[49m\n\u001B[0;32m      5\u001B[0m x \u001B[38;5;241m=\u001B[39m tf\u001B[38;5;241m.\u001B[39mmath\u001B[38;5;241m.\u001B[39mdivide(x, tau)\n\u001B[0;32m      6\u001B[0m \u001B[38;5;28;01mreturn\u001B[39;00m x\n",
      "File \u001B[1;32m~\\anaconda3\\envs\\gru\\lib\\site-packages\\tensorflow\\python\\ops\\gen_math_ops.py:4002\u001B[0m, in \u001B[0;36mfloor_mod\u001B[1;34m(x, y, name)\u001B[0m\n\u001B[0;32m   4000\u001B[0m   \u001B[38;5;28;01mreturn\u001B[39;00m _result\n\u001B[0;32m   4001\u001B[0m \u001B[38;5;28;01mexcept\u001B[39;00m _core\u001B[38;5;241m.\u001B[39m_NotOkStatusException \u001B[38;5;28;01mas\u001B[39;00m e:\n\u001B[1;32m-> 4002\u001B[0m   \u001B[43m_ops\u001B[49m\u001B[38;5;241;43m.\u001B[39;49m\u001B[43mraise_from_not_ok_status\u001B[49m\u001B[43m(\u001B[49m\u001B[43me\u001B[49m\u001B[43m,\u001B[49m\u001B[43m \u001B[49m\u001B[43mname\u001B[49m\u001B[43m)\u001B[49m\n\u001B[0;32m   4003\u001B[0m \u001B[38;5;28;01mexcept\u001B[39;00m _core\u001B[38;5;241m.\u001B[39m_FallbackException:\n\u001B[0;32m   4004\u001B[0m   \u001B[38;5;28;01mpass\u001B[39;00m\n",
      "File \u001B[1;32m~\\anaconda3\\envs\\gru\\lib\\site-packages\\tensorflow\\python\\framework\\ops.py:7209\u001B[0m, in \u001B[0;36mraise_from_not_ok_status\u001B[1;34m(e, name)\u001B[0m\n\u001B[0;32m   7207\u001B[0m \u001B[38;5;28;01mdef\u001B[39;00m \u001B[38;5;21mraise_from_not_ok_status\u001B[39m(e, name):\n\u001B[0;32m   7208\u001B[0m   e\u001B[38;5;241m.\u001B[39mmessage \u001B[38;5;241m+\u001B[39m\u001B[38;5;241m=\u001B[39m (\u001B[38;5;124m\"\u001B[39m\u001B[38;5;124m name: \u001B[39m\u001B[38;5;124m\"\u001B[39m \u001B[38;5;241m+\u001B[39m name \u001B[38;5;28;01mif\u001B[39;00m name \u001B[38;5;129;01mis\u001B[39;00m \u001B[38;5;129;01mnot\u001B[39;00m \u001B[38;5;28;01mNone\u001B[39;00m \u001B[38;5;28;01melse\u001B[39;00m \u001B[38;5;124m\"\u001B[39m\u001B[38;5;124m\"\u001B[39m)\n\u001B[1;32m-> 7209\u001B[0m   \u001B[38;5;28;01mraise\u001B[39;00m core\u001B[38;5;241m.\u001B[39m_status_to_exception(e) \u001B[38;5;28;01mfrom\u001B[39;00m \u001B[38;5;28;01mNone\u001B[39;00m\n",
      "\u001B[1;31mInvalidArgumentError\u001B[0m: {{function_node __wrapped__FloorMod_device_/job:localhost/replica:0/task:0/device:CPU:0}} Incompatible shapes: [3] vs. [1,4] [Op:FloorMod]"
     ]
    }
   ],
   "source": [
    "phi_fast(time,s,)"
   ],
   "metadata": {
    "collapsed": false
   }
  },
  {
   "cell_type": "code",
   "execution_count": 11,
   "outputs": [
    {
     "data": {
      "text/plain": "TensorShape([3])"
     },
     "execution_count": 11,
     "metadata": {},
     "output_type": "execute_result"
    }
   ],
   "source": [
    "time.shape"
   ],
   "metadata": {
    "collapsed": false
   }
  },
  {
   "cell_type": "code",
   "execution_count": 12,
   "outputs": [
    {
     "data": {
      "text/plain": "TensorShape([4, 1])"
     },
     "execution_count": 12,
     "metadata": {},
     "output_type": "execute_result"
    }
   ],
   "source": [
    "tau.shape"
   ],
   "metadata": {
    "collapsed": false
   }
  },
  {
   "cell_type": "code",
   "execution_count": 13,
   "outputs": [
    {
     "data": {
      "text/plain": "<tf.Tensor: shape=(3,), dtype=float32, numpy=array([1., 2., 3.], dtype=float32)>"
     },
     "execution_count": 13,
     "metadata": {},
     "output_type": "execute_result"
    }
   ],
   "source": [
    "tf.transpose(time)"
   ],
   "metadata": {
    "collapsed": false
   }
  },
  {
   "cell_type": "code",
   "execution_count": 14,
   "outputs": [],
   "source": [
    "x1 = tf.math.floormod(time, tau)"
   ],
   "metadata": {
    "collapsed": false
   }
  },
  {
   "cell_type": "code",
   "execution_count": 15,
   "outputs": [],
   "source": [
    "x3 = tf.math.floormod(tf.transpose(time), tau)"
   ],
   "metadata": {
    "collapsed": false
   }
  },
  {
   "cell_type": "code",
   "execution_count": 16,
   "outputs": [
    {
     "name": "stdout",
     "output_type": "stream",
     "text": [
      "x1:  tf.Tensor(\n",
      "[[1. 2. 3.]\n",
      " [1. 2. 3.]\n",
      " [1. 2. 3.]\n",
      " [1. 2. 3.]], shape=(4, 3), dtype=float32) x3:  tf.Tensor(\n",
      "[[1. 2. 3.]\n",
      " [1. 2. 3.]\n",
      " [1. 2. 3.]\n",
      " [1. 2. 3.]], shape=(4, 3), dtype=float32)\n"
     ]
    }
   ],
   "source": [
    "print('x1: ', x1, 'x3: ', x3)"
   ],
   "metadata": {
    "collapsed": false
   }
  },
  {
   "cell_type": "code",
   "execution_count": 1,
   "outputs": [],
   "source": [
    "import pandas as pd"
   ],
   "metadata": {
    "collapsed": false
   }
  },
  {
   "cell_type": "code",
   "execution_count": 2,
   "outputs": [],
   "source": [
    "df_train = pd.read_csv(\"smaller_train.csv\")\n",
    "df_valid = pd.read_csv(\"smaller_valid.csv\")\n",
    "df_test = pd.read_csv(\"smaller_test.csv\")\n",
    "\n",
    "df = pd.concat([df_train, df_valid, df_test], ignore_index=True)"
   ],
   "metadata": {
    "collapsed": false
   }
  },
  {
   "cell_type": "code",
   "execution_count": 6,
   "outputs": [
    {
     "data": {
      "text/plain": "       transaction     journey_id    channel_id     timestamp  \\\ncount  22292.00000   22292.000000  22292.000000  22292.000000   \nmean       0.84712  132891.073255      3.855643   3629.303122   \nstd        0.35988    4211.632516      3.123650   1619.506412   \nmin        0.00000  120006.000000      1.000000     15.216474   \n25%        1.00000  131467.000000      1.000000   2320.991985   \n50%        1.00000  133157.000000      3.000000   3575.532117   \n75%        1.00000  135552.750000      6.000000   5090.889078   \nmax        1.00000  139993.000000     24.000000   6359.766205   \n\n       timestamp_conversion             s  \ncount          18884.000000  22292.000000  \nmean            3969.179627      1.536874  \nstd             1577.755108      0.498650  \nmin              212.363611      1.000000  \n25%             2708.432778      1.000000  \n50%             3998.176944      2.000000  \n75%             5439.711111      2.000000  \nmax             6920.170556      2.000000  ",
      "text/html": "<div>\n<style scoped>\n    .dataframe tbody tr th:only-of-type {\n        vertical-align: middle;\n    }\n\n    .dataframe tbody tr th {\n        vertical-align: top;\n    }\n\n    .dataframe thead th {\n        text-align: right;\n    }\n</style>\n<table border=\"1\" class=\"dataframe\">\n  <thead>\n    <tr style=\"text-align: right;\">\n      <th></th>\n      <th>transaction</th>\n      <th>journey_id</th>\n      <th>channel_id</th>\n      <th>timestamp</th>\n      <th>timestamp_conversion</th>\n      <th>s</th>\n    </tr>\n  </thead>\n  <tbody>\n    <tr>\n      <th>count</th>\n      <td>22292.00000</td>\n      <td>22292.000000</td>\n      <td>22292.000000</td>\n      <td>22292.000000</td>\n      <td>18884.000000</td>\n      <td>22292.000000</td>\n    </tr>\n    <tr>\n      <th>mean</th>\n      <td>0.84712</td>\n      <td>132891.073255</td>\n      <td>3.855643</td>\n      <td>3629.303122</td>\n      <td>3969.179627</td>\n      <td>1.536874</td>\n    </tr>\n    <tr>\n      <th>std</th>\n      <td>0.35988</td>\n      <td>4211.632516</td>\n      <td>3.123650</td>\n      <td>1619.506412</td>\n      <td>1577.755108</td>\n      <td>0.498650</td>\n    </tr>\n    <tr>\n      <th>min</th>\n      <td>0.00000</td>\n      <td>120006.000000</td>\n      <td>1.000000</td>\n      <td>15.216474</td>\n      <td>212.363611</td>\n      <td>1.000000</td>\n    </tr>\n    <tr>\n      <th>25%</th>\n      <td>1.00000</td>\n      <td>131467.000000</td>\n      <td>1.000000</td>\n      <td>2320.991985</td>\n      <td>2708.432778</td>\n      <td>1.000000</td>\n    </tr>\n    <tr>\n      <th>50%</th>\n      <td>1.00000</td>\n      <td>133157.000000</td>\n      <td>3.000000</td>\n      <td>3575.532117</td>\n      <td>3998.176944</td>\n      <td>2.000000</td>\n    </tr>\n    <tr>\n      <th>75%</th>\n      <td>1.00000</td>\n      <td>135552.750000</td>\n      <td>6.000000</td>\n      <td>5090.889078</td>\n      <td>5439.711111</td>\n      <td>2.000000</td>\n    </tr>\n    <tr>\n      <th>max</th>\n      <td>1.00000</td>\n      <td>139993.000000</td>\n      <td>24.000000</td>\n      <td>6359.766205</td>\n      <td>6920.170556</td>\n      <td>2.000000</td>\n    </tr>\n  </tbody>\n</table>\n</div>"
     },
     "execution_count": 6,
     "metadata": {},
     "output_type": "execute_result"
    }
   ],
   "source": [
    "df.describe()"
   ],
   "metadata": {
    "collapsed": false
   }
  },
  {
   "cell_type": "code",
   "execution_count": null,
   "outputs": [],
   "source": [],
   "metadata": {
    "collapsed": false
   }
  }
 ],
 "metadata": {
  "kernelspec": {
   "display_name": "Python 3",
   "language": "python",
   "name": "python3"
  },
  "language_info": {
   "codemirror_mode": {
    "name": "ipython",
    "version": 2
   },
   "file_extension": ".py",
   "mimetype": "text/x-python",
   "name": "python",
   "nbconvert_exporter": "python",
   "pygments_lexer": "ipython2",
   "version": "2.7.6"
  }
 },
 "nbformat": 4,
 "nbformat_minor": 0
}
